{
  "nbformat": 4,
  "nbformat_minor": 0,
  "metadata": {
    "accelerator": "GPU",
    "colab": {
      "name": "code.ipynb",
      "provenance": [],
      "collapsed_sections": [
        "KMgk0nafBWE4",
        "YtNjI3qfECsj",
        "HwyQXIJ3Y-Ld",
        "_iA50w4nfoSa",
        "W0O8WITDPgDr",
        "04llu1CfO3iB",
        "aUHS_QNzQNqk",
        "O3GAMlY0Mi6y",
        "_ZpFVE2oO5x_",
        "DYmVdbWHOxzf",
        "zmLPqqzeeUWz",
        "4JHSVKbhB9Lh",
        "6qYA6BO9Of6s",
        "ls0GEq0Y_B0b",
        "kDz3kbYaBWRQ",
        "mBOo0GU6Bbf_",
        "zIOnNYT9Bh9y",
        "NIUd5dKgeULv",
        "AnOhzDG9WRiH",
        "n1QmsF25ek28"
      ],
      "toc_visible": true,
      "include_colab_link": true
    },
    "kernelspec": {
      "display_name": "Python 3",
      "name": "python3"
    },
    "language_info": {
      "name": "python"
    }
  },
  "cells": [
    {
      "cell_type": "markdown",
      "metadata": {
        "id": "view-in-github",
        "colab_type": "text"
      },
      "source": [
        "<a href=\"https://colab.research.google.com/github/iitcybersecurity/RealWorldVideoAnomalyDetection/blob/main/code.ipynb\" target=\"_parent\"><img src=\"https://colab.research.google.com/assets/colab-badge.svg\" alt=\"Open In Colab\"/></a>"
      ]
    },
    {
      "cell_type": "markdown",
      "metadata": {
        "id": "YtNjI3qfECsj"
      },
      "source": [
        "#Setup"
      ]
    },
    {
      "cell_type": "code",
      "metadata": {
        "id": "5cqBIDNIAYkT"
      },
      "source": [
        "import tensorflow as tf\n",
        "physical_devices = tf.config.list_physical_devices('GPU') \n",
        "tf.config.experimental.set_memory_growth(physical_devices[0], True)"
      ],
      "execution_count": null,
      "outputs": []
    },
    {
      "cell_type": "code",
      "metadata": {
        "id": "gTzt_znOUoqp"
      },
      "source": [
        "# Video frames resolution BGR\n",
        "FRAME_SIZES = (240, 320, 3)\n",
        "PRETRAINED_INPUT_SIZE = (224, 224, 3)\n",
        "N_COCO_CLASSES = 80\n",
        "N_CRIME_CLASSES = 13\n",
        "LSTM_UNITS = 128\n",
        "C3D_INPUT_SIZE = (16, 112, 112, 3)\n",
        "\n",
        "# supervised training\n",
        "N_SUPERVISED_CLASSES = 7\n",
        "CLASSES = [\"Arrest\", \"Assault\", \"Burglary\", \"Robbery\", \"Stealing\", \"Vandalism\", \"Normal_Videos_event\"]\n",
        "BINARY_CLASSES = [\"Normal\", \"Anomaly\"]"
      ],
      "execution_count": null,
      "outputs": []
    },
    {
      "cell_type": "markdown",
      "metadata": {
        "id": "h_fWQbMGSvQM"
      },
      "source": [
        "#Models"
      ]
    },
    {
      "cell_type": "markdown",
      "metadata": {
        "id": "HwyQXIJ3Y-Ld"
      },
      "source": [
        "##YOLOv4"
      ]
    },
    {
      "cell_type": "code",
      "metadata": {
        "id": "5AzqqeH-i8sv"
      },
      "source": [
        "import pandas as pd\n",
        "COCO_CLASSES = pd.read_csv(\"coco.names\", header=None)[0].to_list()"
      ],
      "execution_count": null,
      "outputs": []
    },
    {
      "cell_type": "code",
      "metadata": {
        "id": "eHYqlR5BaUiv"
      },
      "source": [
        "import cv2\n",
        "from yolov4.tf import YOLOv4\n",
        "\n",
        "yolo = YOLOv4()\n",
        "\n",
        "yolo.config.parse_names(\"coco.names\")\n",
        "yolo.config.parse_cfg(\"yolov4.cfg\")\n",
        "\n",
        "yolo.make_model()\n",
        "yolo.load_weights(\"pretrained_coco.weights\", weights_type=\"yolo\")\n",
        "yolo.summary(summary_type=\"yolo\")\n",
        "yolo.summary()"
      ],
      "execution_count": null,
      "outputs": []
    },
    {
      "cell_type": "code",
      "metadata": {
        "id": "tPdSeGuJaplh"
      },
      "source": [
        "import numpy as np\n",
        "from collections import Counter\n",
        "\n",
        "def yolov4_detect_bag_of_objects(img, network, confidence_threshold = 0.5, n_classes = len(COCO_CLASSES)):\n",
        "  '''\n",
        "  Input: RGB image, network, min_confidence \n",
        "  Output: detections -> Dim(-1, (x, y, w, h, cls_id, prob)), bag_of_objects\n",
        "  '''\n",
        "\n",
        "  detections = yolo.predict(img, confidence_threshold)\n",
        "\n",
        "  # array with objects frequency \n",
        "  bag_of_objects = np.zeros(n_classes)\n",
        "  count = Counter([obj[4] for obj in detections])\n",
        "\n",
        "  for obj in count:\n",
        "    bag_of_objects[int(obj)] = count[obj]\n",
        "\n",
        "  return detections, bag_of_objects"
      ],
      "execution_count": null,
      "outputs": []
    },
    {
      "cell_type": "markdown",
      "metadata": {
        "id": "iy6lctRBNsOO"
      },
      "source": [
        "##CNN "
      ]
    },
    {
      "cell_type": "code",
      "metadata": {
        "id": "KFMmOPTJxsM3"
      },
      "source": [
        "import tensorflow as tf\n",
        "from tensorflow import keras\n",
        "from tensorflow.keras import models\n",
        "from tensorflow.keras.layers import Dropout, concatenate, Dense\n",
        "from tensorflow.keras.models import Model\n",
        "from tensorflow.keras.applications import ResNet50\n",
        "from keras.applications import resnet \n",
        "\n",
        "# to correctly preprocess img need to be RGB\n",
        "# resnet.preprocess_input(img)\n",
        "\n",
        "def build_cnn_model(n_classes = 2, \n",
        "                    input_size = PRETRAINED_INPUT_SIZE, \n",
        "                    pretrained_network = ResNet50,\n",
        "                    optical_flow = True,\n",
        "                    bag_of_objects = True,\n",
        "                    show_summary = False):\n",
        "\n",
        "  pretrained_base_frame = pretrained_network(weights='imagenet', include_top=False, pooling='avg', input_shape=input_size)\n",
        "\n",
        "  pretrained_base_frame_inp = pretrained_base_frame.input\n",
        "  pretrained_base_frame_out = pretrained_base_frame.output\n",
        "\n",
        "  pretrained_base_frame.layers[0]._name = \"input_frame\"\n",
        "  for layer in pretrained_base_frame.layers[1:-1]:\n",
        "      layer._name = layer.name + str(\"_frame\")\n",
        "  pretrained_base_frame.layers[-1]._name = \"global_avg_pooling_frame\"\n",
        "\n",
        "  concatenated_out = [pretrained_base_frame_out]\n",
        "  concatenated_inp = [pretrained_base_frame_inp]\n",
        "\n",
        "  pretrained_base_opt_flow = None\n",
        "  if optical_flow:\n",
        "    pretrained_base_opt_flow = pretrained_network(weights='imagenet', include_top=False, pooling='avg', input_shape=input_size)\n",
        "\n",
        "    pretrained_base_opt_flow_inp = pretrained_base_opt_flow.input\n",
        "    pretrained_base_opt_flow_out = pretrained_base_opt_flow.output\n",
        "\n",
        "    pretrained_base_opt_flow.layers[0]._name = \"input_opt_flow\"\n",
        "    for layer in pretrained_base_opt_flow.layers[1:-1]:\n",
        "        layer._name = layer.name + str(\"_opt_flow\")\n",
        "    pretrained_base_opt_flow.layers[-1]._name = \"global_avg_pooling_opt_flow\"\n",
        "\n",
        "    concatenated_out.append(pretrained_base_opt_flow_out)\n",
        "    concatenated_inp.append(pretrained_base_opt_flow_inp)\n",
        "\n",
        "  if bag_of_objects:\n",
        "    bag_of_objects_input = keras.Input(N_COCO_CLASSES, name=\"input_bag_of_objects\")\n",
        "    concatenated_out.append(bag_of_objects_input)\n",
        "    concatenated_inp.append(bag_of_objects_input)\n",
        "\n",
        "\n",
        "  if bag_of_objects or optical_flow:\n",
        "    merged = concatenate(concatenated_out, name=\"concat_layer\")\n",
        "    merged = Dense(4096, activation=\"relu\", name = \"fc1\")(merged)\n",
        "  else:\n",
        "    merged = Dense(4096, activation=\"relu\", name = \"fc1\")(pretrained_base_frame_out)\n",
        "\n",
        "  merged = Dropout(0.5, name = \"drop1\")(merged)\n",
        "  merged = Dense(4096, activation=\"relu\", name = \"fc2\")(merged)\n",
        "  merged = Dropout(0.5, name = \"drop2\")(merged)\n",
        "  merged = Dense(n_classes, activation='softmax', name = \"classes\")(merged)\n",
        "\n",
        "  CNN_classificator = Model(concatenated_inp, merged, name = \"CNN_classificator\")\n",
        "\n",
        "  if show_summary:\n",
        "    CNN_classificator.summary()\n",
        "\n",
        "  return CNN_classificator, pretrained_base_frame, pretrained_base_opt_flow"
      ],
      "execution_count": null,
      "outputs": []
    },
    {
      "cell_type": "markdown",
      "metadata": {
        "id": "_iA50w4nfoSa"
      },
      "source": [
        "##Pretrained C3D (sports 1M)"
      ]
    },
    {
      "cell_type": "code",
      "metadata": {
        "id": "_S_I9suVfvHn"
      },
      "source": [
        "from keras.models import Sequential, Model\n",
        "from keras.layers import Input, Dense, Dropout, Flatten, concatenate\n",
        "from keras.layers.convolutional import Conv3D, MaxPooling3D, ZeroPadding3D, Conv1D, MaxPooling1D\n",
        "from tensorflow import keras\n",
        "\n",
        "# From: https://github.com/aslucki/C3D_Sport1M_keras\n",
        "\n",
        "def build_c3d_model(n_classes, input_shape, c3d_weight_path, dim_bag_of_objects = None, show_summary=False):\n",
        "  \"\"\"\n",
        "  Construct c3d model and loads weigths, if dim_bag_of_objects not None creates a joint fusion model \n",
        "  \"\"\"\n",
        "\n",
        "  c3d_base_model = Sequential()\n",
        "  c3d_base_model.add(Conv3D(64, (3, 3, 3), activation='relu',\n",
        "                    padding='same', name='conv1',\n",
        "                    input_shape=input_shape))\n",
        "  c3d_base_model.add(MaxPooling3D(pool_size=(1, 2, 2), strides=(1, 2, 2),\n",
        "                          padding='valid', name='pool1'))\n",
        "  # 2nd layer group\n",
        "  c3d_base_model.add(Conv3D(128, (3, 3, 3), activation='relu',\n",
        "                    padding='same', name='conv2'))\n",
        "  c3d_base_model.add(MaxPooling3D(pool_size=(2, 2, 2), strides=(2, 2, 2),\n",
        "                          padding='valid', name='pool2'))\n",
        "  # 3rd layer group\n",
        "  c3d_base_model.add(Conv3D(256, (3, 3, 3), activation='relu',\n",
        "                    padding='same', name='conv3a'))\n",
        "  c3d_base_model.add(Conv3D(256, (3, 3, 3), activation='relu',\n",
        "                    padding='same', name='conv3b'))\n",
        "  c3d_base_model.add(MaxPooling3D(pool_size=(2, 2, 2), strides=(2, 2, 2),\n",
        "                          padding='valid', name='pool3'))\n",
        "  # 4th layer group\n",
        "  c3d_base_model.add(Conv3D(512, (3, 3, 3), activation='relu',\n",
        "                    padding='same', name='conv4a'))\n",
        "  c3d_base_model.add(Conv3D(512, (3, 3, 3), activation='relu',\n",
        "                    padding='same', name='conv4b'))\n",
        "  c3d_base_model.add(MaxPooling3D(pool_size=(2, 2, 2), strides=(2, 2, 2),\n",
        "                          padding='valid', name='pool4'))\n",
        "  # 5th layer group\n",
        "  c3d_base_model.add(Conv3D(512, (3, 3, 3), activation='relu',\n",
        "                    padding='same', name='conv5a'))\n",
        "  c3d_base_model.add(Conv3D(512, (3, 3, 3), activation='relu',\n",
        "                    padding='same', name='conv5b'))\n",
        "  c3d_base_model.add(ZeroPadding3D(padding=((0, 0), (0, 1), (0, 1)), name='zeropad5'))\n",
        "  c3d_base_model.add(MaxPooling3D(pool_size=(2, 2, 2), strides=(2, 2, 2),\n",
        "                          padding='valid', name='pool5'))\n",
        "  c3d_base_model.add(Flatten(name='flatten_c3d'))\n",
        "  # FC layers group\n",
        "  c3d_base_model.add(Dense(4096, activation='relu', name='fc6'))\n",
        "  c3d_base_model.add(Dropout(.5))\n",
        "  c3d_base_model.add(Dense(4096, activation='relu', name='fc7'))\n",
        "  c3d_base_model.add(Dropout(.5))\n",
        "  c3d_base_model.add(Dense(487, activation='softmax', name='fc8'))\n",
        "\n",
        "  # Load weights\n",
        "  c3d_base_model.load_weights(c3d_weight_path)\n",
        "\n",
        "  # Custom part\n",
        "  if dim_bag_of_objects is None:\n",
        "    merged = Dense(4096, activation=\"relu\", name = \"fc1\")(c3d_base_model.get_layer('flatten_c3d').output)\n",
        "  else:      \n",
        "    bag_model = Sequential()\n",
        "    bag_model.add(keras.Input(shape=(16,N_COCO_CLASSES), name=\"input_bag_of_objects\"))\n",
        "    bag_model.add(Conv1D(80, 3, activation='relu', name=\"conv1d_1\"))\n",
        "    bag_model.add(MaxPooling1D(2, name=\"max_pool_1\"))\n",
        "    bag_model.add(Conv1D(80, 3, activation='relu', name=\"conv1d_2\"))\n",
        "    bag_model.add(MaxPooling1D(2, name=\"max_pool_2\"))\n",
        "    bag_model.add(Flatten(name = \"flatten_1d\"))\n",
        "    merged = concatenate([c3d_base_model.get_layer('flatten_c3d').output, bag_model.output], name=\"concat_layer\")\n",
        "    merged = Dense(4096, activation=\"relu\", name = \"fc1\")(merged)\n",
        "\n",
        "  merged = Dropout(0.5, name = \"drop1\")(merged)\n",
        "  merged = Dense(4096, activation=\"relu\", name = \"fc2\")(merged)\n",
        "  merged = Dropout(0.5, name = \"drop2\")(merged)\n",
        "  merged = Dense(n_classes, activation='softmax', name = \"classes\")(merged)\n",
        "\n",
        "  if dim_bag_of_objects is None:\n",
        "    c3d_classificator = Model(c3d_base_model.input, merged, name = \"c3d_classificator\")\n",
        "  else:\n",
        "    c3d_classificator = Model([c3d_base_model.input,bag_model.input], merged, name = \"c3d_classificator\")\n",
        "\n",
        "  if show_summary:\n",
        "    c3d_classificator.summary()\n",
        "\n",
        "  return c3d_classificator, c3d_base_model"
      ],
      "execution_count": null,
      "outputs": []
    },
    {
      "cell_type": "markdown",
      "metadata": {
        "id": "2eL_rFTnMng0"
      },
      "source": [
        "#Taining"
      ]
    },
    {
      "cell_type": "markdown",
      "metadata": {
        "id": "04llu1CfO3iB"
      },
      "source": [
        "##Setup"
      ]
    },
    {
      "cell_type": "code",
      "metadata": {
        "id": "V0nLJ3_SiXNe"
      },
      "source": [
        "N_SUPERVISED_CLASSES = 7\n",
        "CLASSES = [\"Arrest\", \"Assault\", \"Burglary\", \"Robbery\", \"Stealing\", \"Vandalism\", \"Normal_Videos_event\"]"
      ],
      "execution_count": null,
      "outputs": []
    },
    {
      "cell_type": "code",
      "metadata": {
        "id": "vkFkL15oNA-8"
      },
      "source": [
        "import pandas as pd\n",
        "VIDEOS_PATH = \"Data/Videos\""
      ],
      "execution_count": null,
      "outputs": []
    },
    {
      "cell_type": "code",
      "metadata": {
        "id": "xeEQSVp0MsMB"
      },
      "source": [
        "train_split = pd.read_csv(\"Data/framebyframe_annotations/Train_split_AD.txt\", header=None)\n",
        "print(train_split)\n",
        "test_val_split = pd.read_csv(\"Data/framebyframe_annotations/Test_split_AD.txt\", header=None)\n",
        "print(test_val_split)\n",
        "\n",
        "# reservations odd rows, even rows deleted\n",
        "test_split=test_val_split[test_val_split.index%2==0]\n",
        "print(test_split)\n",
        "\n",
        "# retained even rows, delete odd lines\n",
        "val_split=test_val_split[test_val_split.index%2==1]\n",
        "print(val_split)"
      ],
      "execution_count": null,
      "outputs": []
    },
    {
      "cell_type": "markdown",
      "metadata": {
        "id": "iXwq-0E1SmIx"
      },
      "source": [
        "1.   **Track ID** All rows with the same ID belong to \n",
        "the same path.\n",
        "2.   **xmin** The top left x-coordinate of the bounding box.\n",
        "3.   **ymin** The top left y-coordinate of the bounding box.\n",
        "4.   **xmax** The bottom right x-coordinate of the bounding box.\n",
        "5.   **ymax** The bottom right y-coordinate of the bounding box.\n",
        "6.   **frame** The frame that this annotation represents.\n",
        "7.   **lost** If 1, the annotation is outside of the view screen.\n",
        "8.   **occluded** If 1, the annotation is occluded.\n",
        "9.   **generated** If 1, the annotation was automatically interpolated.\n",
        "10.  **label** The label for this annotation, enclosed in quotation marks."
      ]
    },
    {
      "cell_type": "markdown",
      "metadata": {
        "id": "Fcu0B9JwT0gQ"
      },
      "source": [
        "!!! Frames contains anomalies only if **lost** is 0 !!!"
      ]
    },
    {
      "cell_type": "markdown",
      "metadata": {
        "id": "aUHS_QNzQNqk"
      },
      "source": [
        "###Utils"
      ]
    },
    {
      "cell_type": "code",
      "metadata": {
        "id": "qUUg5CMfQLsl"
      },
      "source": [
        "import numpy as np\n",
        "import matplotlib.pyplot as plt\n",
        "import seaborn as sns\n",
        "\n",
        "def make_confusion_matrix(cf,\n",
        "                          group_names=None,\n",
        "                          categories='auto',\n",
        "                          count=True,\n",
        "                          percent=True,\n",
        "                          cbar=True,\n",
        "                          xyticks=True,\n",
        "                          xyplotlabels=True,\n",
        "                          sum_stats=True,\n",
        "                          figsize=None,\n",
        "                          cmap='Blues',\n",
        "                          title=None):\n",
        "    '''\n",
        "    This function will make a pretty plot of an sklearn Confusion Matrix cm using a Seaborn heatmap visualization.\n",
        "    Arguments\n",
        "    ---------\n",
        "    cf:            confusion matrix to be passed in\n",
        "    group_names:   List of strings that represent the labels row by row to be shown in each square.\n",
        "    categories:    List of strings containing the categories to be displayed on the x,y axis. Default is 'auto'\n",
        "    count:         If True, show the raw number in the confusion matrix. Default is True.\n",
        "    normalize:     If True, show the proportions for each category. Default is True.\n",
        "    cbar:          If True, show the color bar. The cbar values are based off the values in the confusion matrix.\n",
        "                   Default is True.\n",
        "    xyticks:       If True, show x and y ticks. Default is True.\n",
        "    xyplotlabels:  If True, show 'True Label' and 'Predicted Label' on the figure. Default is True.\n",
        "    sum_stats:     If True, display summary statistics below the figure. Default is True.\n",
        "    figsize:       Tuple representing the figure size. Default will be the matplotlib rcParams value.\n",
        "    cmap:          Colormap of the values displayed from matplotlib.pyplot.cm. Default is 'Blues'\n",
        "                   See http://matplotlib.org/examples/color/colormaps_reference.html\n",
        "                   \n",
        "    title:         Title for the heatmap. Default is None.\n",
        "    '''\n",
        "\n",
        "\n",
        "    # CODE TO GENERATE TEXT INSIDE EACH SQUARE\n",
        "    blanks = ['' for i in range(cf.size)]\n",
        "\n",
        "    if group_names and len(group_names)==cf.size:\n",
        "        group_labels = [\"{}\\n\".format(value) for value in group_names]\n",
        "    else:\n",
        "        group_labels = blanks\n",
        "\n",
        "    if count:\n",
        "        group_counts = [\"{0:0.0f}\\n\".format(value) for value in cf.flatten()]\n",
        "    else:\n",
        "        group_counts = blanks\n",
        "\n",
        "    if percent:\n",
        "        group_percentages = [\"{0:.2%}\".format(value) for value in cf.flatten()/np.sum(cf)]\n",
        "    else:\n",
        "        group_percentages = blanks\n",
        "\n",
        "    box_labels = [f\"{v1}{v2}{v3}\".strip() for v1, v2, v3 in zip(group_labels,group_counts,group_percentages)]\n",
        "    box_labels = np.asarray(box_labels).reshape(cf.shape[0],cf.shape[1])\n",
        "\n",
        "\n",
        "    # CODE TO GENERATE SUMMARY STATISTICS & TEXT FOR SUMMARY STATS\n",
        "    if sum_stats:\n",
        "        #Accuracy is sum of diagonal divided by total observations\n",
        "        accuracy  = np.trace(cf) / float(np.sum(cf))\n",
        "\n",
        "        #if it is a binary confusion matrix, show some more stats\n",
        "        if len(cf)==2:\n",
        "            #Metrics for Binary Confusion Matrices\n",
        "            precision = cf[1,1] / sum(cf[:,1])\n",
        "            recall    = cf[1,1] / sum(cf[1,:])\n",
        "            f1_score  = 2*precision*recall / (precision + recall)\n",
        "            stats_text = \"\\n\\nAccuracy={:0.3f}\\nPrecision={:0.3f}\\nRecall={:0.3f}\\nF1 Score={:0.3f}\".format(\n",
        "                accuracy,precision,recall,f1_score)\n",
        "        else:\n",
        "            stats_text = \"\\n\\nAccuracy={:0.3f}\".format(accuracy)\n",
        "    else:\n",
        "        stats_text = \"\"\n",
        "\n",
        "\n",
        "    # SET FIGURE PARAMETERS ACCORDING TO OTHER ARGUMENTS\n",
        "    if figsize==None:\n",
        "        #Get default figure size if not set\n",
        "        figsize = plt.rcParams.get('figure.figsize')\n",
        "\n",
        "    if xyticks==False:\n",
        "        #Do not show categories if xyticks is False\n",
        "        categories=False\n",
        "\n",
        "\n",
        "    # MAKE THE HEATMAP VISUALIZATION\n",
        "    plt.figure(figsize=figsize)\n",
        "    sns.heatmap(cf,annot=box_labels,fmt=\"\",cmap=cmap,cbar=cbar,xticklabels=categories,yticklabels=categories)\n",
        "\n",
        "    if xyplotlabels:\n",
        "        plt.ylabel('True label')\n",
        "        plt.xlabel('Predicted label' + stats_text)\n",
        "    else:\n",
        "        plt.xlabel(stats_text)\n",
        "    \n",
        "    if title:\n",
        "        plt.title(title)"
      ],
      "execution_count": null,
      "outputs": []
    },
    {
      "cell_type": "code",
      "metadata": {
        "id": "MXj1Tg0e8alw"
      },
      "source": [
        "import matplotlib.pyplot as plt\n",
        "\n",
        "def plot_history(history):\n",
        "  '''\n",
        "  Plots Training and validation loss and accuracy graphs\n",
        "  '''\n",
        "  acc = history['accuracy']\n",
        "  val_acc = history['val_accuracy']\n",
        "  loss = history['loss']\n",
        "  val_loss = history['val_loss']\n",
        "\n",
        "  epochs = range(len(acc))\n",
        "\n",
        "  plt.plot(epochs, acc, '--b.', label='Training accuracy')\n",
        "  plt.plot(epochs, val_acc, '--r.', label='Validation accuracy')\n",
        "  plt.title('Training and validation accuracy')\n",
        "  plt.legend()\n",
        "  plt.grid(color='grey', which='major', axis='y', linestyle='--')\n",
        "\n",
        "  plt.figure()\n",
        "\n",
        "  plt.plot(epochs, loss, '--b.', label='Training loss')\n",
        "  plt.plot(epochs, val_loss, '--r.', label='Validation loss')\n",
        "  plt.title('Training and validation loss')\n",
        "  plt.legend()\n",
        "  plt.grid(color='grey', which='major', axis='y', linestyle='--')\n",
        "\n",
        "  plt.show()"
      ],
      "execution_count": null,
      "outputs": []
    },
    {
      "cell_type": "code",
      "metadata": {
        "id": "AyN9btxADFLV"
      },
      "source": [
        "from sklearn.metrics import accuracy_score, confusion_matrix, roc_curve, auc\n",
        "def plot_roc_curve(test_labels, models_test_predictions, model_names):\n",
        "  '''\n",
        "  Plot a roc curve for every model predictions \n",
        "  '''\n",
        "  color_idxs = np.linspace(0, 1, len(model_names))\n",
        "  for test_predictions, name, color_idx in zip(models_test_predictions, model_names, color_idxs):\n",
        "    fpr, tpr, _ = roc_curve(test_labels, test_predictions)\n",
        "    roc_auc = auc(fpr, tpr)\n",
        "    plt.plot(fpr, tpr, color=plt.cm.winter(color_idx),\n",
        "            lw=2, label= name + ' (area = %0.3f)' % roc_auc)\n",
        "    \n",
        "  plt.plot([0, 1], [0, 1], color='gray', lw=2, linestyle='--')\n",
        "  plt.xlim([0.0, 1.0])\n",
        "  plt.ylim([0.0, 1.05])\n",
        "  plt.xlabel('False Positive Rate')\n",
        "  plt.ylabel('True Positive Rate')\n",
        "  plt.title('Receiver operating characteristic')\n",
        "  plt.legend(loc=\"lower right\")\n",
        "  plt.show()"
      ],
      "execution_count": null,
      "outputs": []
    },
    {
      "cell_type": "code",
      "metadata": {
        "id": "IMKOiv2wdPun"
      },
      "source": [
        "import smtplib, ssl\n",
        "from email.mime.text import MIMEText\n",
        "from email.mime.multipart import MIMEMultipart\n",
        "\n",
        "def send_email(sender_email, password, receiver_emai, subject=\"Training INFO\", text=\"\", port = 465, smtp_server = \"smtp.gmail.com\" ):\n",
        "\n",
        "  message = MIMEMultipart(\"alternative\")\n",
        "  message[\"Subject\"] = subject\n",
        "  message[\"From\"] = sender_email\n",
        "  message[\"To\"] = receiver_email\n",
        "\n",
        "  part1 = MIMEText(text, \"plain\")\n",
        "  message.attach(part1)\n",
        "\n",
        "  context = ssl.create_default_context()\n",
        "  with smtplib.SMTP_SSL(smtp_server, port, context=context) as server:\n",
        "      server.login(sender_email, password)\n",
        "      server.sendmail(\n",
        "          sender_email, receiver_email, message.as_string()\n",
        "      )"
      ],
      "execution_count": null,
      "outputs": []
    },
    {
      "cell_type": "markdown",
      "metadata": {
        "id": "quKmU_O4PyTn"
      },
      "source": [
        "##CNN"
      ]
    },
    {
      "cell_type": "markdown",
      "metadata": {
        "id": "O3GAMlY0Mi6y"
      },
      "source": [
        "###Preprocessing"
      ]
    },
    {
      "cell_type": "markdown",
      "metadata": {
        "id": "vaZ4wVh-UVHo"
      },
      "source": [
        "Extract preprocessed frames and optical flows, others than bag of objects in frames and class lables "
      ]
    },
    {
      "cell_type": "code",
      "metadata": {
        "id": "fl6csvLvFoxe"
      },
      "source": [
        "import cv2\n",
        "import numpy as np\n",
        "from IPython.display import clear_output \n",
        "from time import sleep\n",
        "from collections import Counter\n",
        "from sklearn.preprocessing import Normalizer\n",
        "from tqdm.notebook import tqdm\n",
        "import math\n",
        "import os\n",
        "import h5py\n",
        "import _thread\n",
        "import pickle\n",
        "import gc\n",
        "\n",
        "def video_preprocessing(videos_split,\n",
        "                        input_size = PRETRAINED_INPUT_SIZE,\n",
        "                        anomalous_sample_rate = 10,\n",
        "                        normal_sample_rate = 30,\n",
        "                        store_one_by_one = False,\n",
        "                        path = None,\n",
        "                        not_consider_normal = True,\n",
        "                        store_one_video_at_time=False,\n",
        "                        object_detector = yolo):\n",
        "\n",
        "  attempt = 0 # max 100 attempts to avoid infinite loops\n",
        "  while True:\n",
        "    video = videos_split[0]\n",
        "    try:\n",
        "      index = 0\n",
        "      ignore = False\n",
        "      not_ignore_count = 0\n",
        "      first = True\n",
        "\n",
        "      for video, video_idx in zip(videos_split[0],range(0,len(videos_split))):\n",
        "\n",
        "        anomalous_video = True if \"Normal_Videos\" not in video else False\n",
        "        normal_video = not anomalous_video\n",
        "\n",
        "        if anomalous_video:\n",
        "          annotations = pd.read_csv(\"Data/framebyframe_annotations/annotations/\"+video+\".txt\", header=None,sep=\" \")\n",
        "          video_class = annotations.iloc[:,-1][0]\n",
        "          frame_annotations = annotations[annotations[6] != 1][5].tolist()\n",
        "        else:\n",
        "          video_class = \"Normal_Videos_event\"\n",
        "\n",
        "        # Capture video from file or link\n",
        "        if anomalous_video:\n",
        "          video_path = \"Data/Videos/\" + video_class + \"/\" + video.strip() + \"_x264.mp4\"\n",
        "        else:\n",
        "          video_path = \"Data/Videos/Training_Normal_Videos_Anomaly/\" + video.strip() + \"_x264.mp4\"\n",
        "\n",
        "        print(\"Video: \" + str(video_path))\n",
        "\n",
        "        cap = cv2.VideoCapture(video_path)\n",
        "        total_frames = int(cap.get(cv2.CAP_PROP_FRAME_COUNT))\n",
        "\n",
        "        # read first frame\n",
        "        _, frame1 = cap.read() # BGR\n",
        "        prvs = cv2.cvtColor(frame1,cv2.COLOR_BGR2GRAY)\n",
        "        ok = True\n",
        "        hsv = np.zeros_like(frame1)\n",
        "        hsv[...,1] = 255\n",
        "\n",
        "        flow = None\n",
        "\n",
        "        # Loop the video\n",
        "        for frame_idx in tqdm(range(1, total_frames)):\n",
        "\n",
        "          # Using different sample rate for normal and anomalous videos\n",
        "          sample_rate = normal_sample_rate if (normal_video or frame_idx not in frame_annotations) else anomalous_sample_rate\n",
        "          _, frame2 = cap.read()\n",
        "\n",
        "          if frame_idx % sample_rate == 0:\n",
        "\n",
        "            if anomalous_video and frame_idx in frame_annotations:\n",
        "              # assign correct class to frames in anomalous videos\n",
        "              frame_class = video_class\n",
        "            else:\n",
        "              frame_class = \"Normal_Videos_event\"\n",
        "\n",
        "            # class in one_hot_encoding\n",
        "            one_hot_class = np.zeros(N_SUPERVISED_CLASSES)\n",
        "            one_hot_class[CLASSES.index(frame_class)] = 1\n",
        "\n",
        "            # read next frame\n",
        "            next = cv2.cvtColor(frame2,cv2.COLOR_BGR2GRAY)\n",
        "\n",
        "            # calculate optical flow using previous and next frames (using default params)\n",
        "            # 6th parameter: larger values increase the algorithm robustness to image noise and give more chances for fast motion detection, but yield more blurred motion field\n",
        "            flow = cv2.calcOpticalFlowFarneback(prvs, next, flow, 0.5, 3, 15, 3, 5, 1.2, 0)\n",
        "\n",
        "            # convert flow to rgb \n",
        "            mag, ang = cv2.cartToPolar(flow[...,0], flow[...,1])\n",
        "            hsv[...,0] = ang*180/np.pi/2\n",
        "            hsv[...,2] = cv2.normalize(mag,None,0,255,cv2.NORM_MINMAX)\n",
        "            rgb_optical_flow = cv2.cvtColor(hsv,cv2.COLOR_HSV2BGR)\n",
        "\n",
        "            prvs = next\n",
        "\n",
        "            # objects detection\n",
        "            if not not_consider_normal or (not_consider_normal and anomalous_video and frame_idx in frame_annotations) or normal_video: \n",
        "              # Skip only if not_consider_normal is true and the frame is normal in an anomalous video\n",
        "\n",
        "              #print(video, frame_class)\n",
        "\n",
        "              # objects detection\n",
        "              frame2_rgb = cv2.cvtColor(frame2, cv2.COLOR_BGR2RGB)\n",
        "              _, bag_of_objects = yolov4_detect_bag_of_objects(frame2_rgb, yolo)\n",
        "\n",
        "              # features extraction\n",
        "              # preprocess_input want RGB images in input\n",
        "              frame2_resized = cv2.resize(frame2_rgb, (input_size[0],input_size[1]), interpolation = cv2.INTER_AREA)\n",
        "              optical_flow_resized = cv2.resize(rgb_optical_flow, (input_size[0],input_size[1]), interpolation = cv2.INTER_AREA)\n",
        "\n",
        "              frame2_preprocessed = resnet.preprocess_input(frame2_resized).reshape(1,input_size[0],input_size[1],input_size[2])\n",
        "              optical_flow_preprocessed  = resnet.preprocess_input(optical_flow_resized).reshape(1,input_size[0],input_size[1],input_size[2])\n",
        "              \n",
        "              if first or store_one_by_one:\n",
        "                first = False\n",
        "                frames_batch = np.array(frame2_preprocessed)\n",
        "                optical_flows_batch = np.array(optical_flow_preprocessed)\n",
        "                boos_bach = np.array(bag_of_objects)\n",
        "                video_classes = np.array(one_hot_class)\n",
        "              else: \n",
        "                frames_batch = np.append(frames_batch,frame2_preprocessed)\n",
        "                optical_flows_batch = np.append(optical_flows_batch,optical_flow_preprocessed)\n",
        "                boos_bach = np.append(boos_bach,bag_of_objects)\n",
        "                video_classes = np.append(video_classes,one_hot_class)\n",
        "\n",
        "              if store_one_by_one:\n",
        "\n",
        "                tmp_path = f\"{path}{str(video.strip())}/\"\n",
        "\n",
        "                if not os.path.exists(tmp_path):\n",
        "                  os.makedirs(tmp_path)\n",
        "\n",
        "                # faster with smaller objects\n",
        "                with open(tmp_path + \"preprocessing_\" + str(frame_idx) + \".pkl\", \"wb\") as f:\n",
        "                  pickle.dump([frames_batch, optical_flows_batch, boos_bach, video_classes], f)\n",
        "                \n",
        "                # prevent memory leak\n",
        "                gc.collect()\n",
        "\n",
        "        if store_one_video_at_time:\n",
        "          first = True\n",
        "        \n",
        "          if not os.path.exists(path):\n",
        "              os.makedirs(path)\n",
        "\n",
        "          # too large for classical numpy save\n",
        "          with h5py.File(path + \"preprocessing_\" + str(video.strip()), 'w') as hf:\n",
        "            hf.create_dataset(\"frames_batch\",  data=frames_batch)\n",
        "            hf.create_dataset(\"optical_flows_batch\",  data=optical_flows_batch)\n",
        "            hf.create_dataset(\"boos_bach\",  data=boos_bach)\n",
        "            hf.create_dataset(\"video_classes\",  data=video_classes)\n",
        "          \n",
        "\n",
        "      # correctly reshape inputs and classes\n",
        "      frames_batch = np.array(frames_batch).reshape(-1,input_size[0],input_size[1],input_size[2])\n",
        "      optical_flows_batch = np.array(optical_flows_batch).reshape(-1,input_size[0],input_size[1],input_size[2])\n",
        "      boos_bach = np.array(boos_bach).reshape(-1,N_COCO_CLASSES)\n",
        "      video_classes = np.array(video_classes).reshape(-1,N_SUPERVISED_CLASSES)\n",
        "\n",
        "      if not store_one_by_one and not store_one_video_at_time:\n",
        "\n",
        "        if not os.path.exists(path):\n",
        "            os.makedirs(path)\n",
        "\n",
        "        # too large for classical numpy save\n",
        "        with h5py.File(path + \"preprocessing_all\", 'w') as hf:\n",
        "          hf.create_dataset(\"frames_batch\",  data=frames_batch)\n",
        "          hf.create_dataset(\"optical_flows_batch\",  data=optical_flows_batch)\n",
        "          hf.create_dataset(\"boos_bach\",  data=boos_bach)\n",
        "          hf.create_dataset(\"video_classes\",  data=video_classes)\n",
        "        \n",
        "        return frames_batch, optical_flows_batch, boos_bach, video_classes\n",
        "      return\n",
        "    except Exception as ex:\n",
        "      print(\"ERROR: \" + str(ex) + \" for \" + str(video.strip()) + \" retrying...\")\n",
        "      attempt += 1\n",
        "      if attempt > 100:\n",
        "        print(\"Too many errors, abort!\")\n",
        "        return"
      ],
      "execution_count": null,
      "outputs": []
    },
    {
      "cell_type": "code",
      "metadata": {
        "id": "0jquOfaQOV5a"
      },
      "source": [
        "with open(\"Saved/ALL_framebyframe/Train/Arrest002/preprocessing_1.pkl\", \"rb\") as f:\n",
        "  out = pickle.load(f)"
      ],
      "execution_count": null,
      "outputs": []
    },
    {
      "cell_type": "code",
      "metadata": {
        "id": "B4jT9mpB8dM2"
      },
      "source": [
        "from threading import Thread\n",
        "\n",
        "pool_size = 5\n",
        "videos = len(train_split)\n",
        "\n",
        "for i in range(0, videos, pool_size):\n",
        "\n",
        "  print(\"---------- POOL START [{},{}]/{} ----------\".format(i,i+pool_size,videos))\n",
        "\n",
        "  pool = []\n",
        "  for j in range(i, i + pool_size):\n",
        "    if j < videos:\n",
        "      t = Thread( target=video_preprocessing, args=(train_split[j:j+1], PRETRAINED_INPUT_SIZE, 1, 1, True, \"Saved/ALL_framebyframe/Train/\", False, False, yolo))\n",
        "      t.start()\n",
        "      pool.append(t)\n",
        "  for t in pool:\n",
        "    t.join()\n",
        "\n"
      ],
      "execution_count": null,
      "outputs": []
    },
    {
      "cell_type": "code",
      "metadata": {
        "id": "z5Xy7voDEIw6"
      },
      "source": [
        "from threading import Thread\n",
        "\n",
        "pool_size = 5\n",
        "videos = len(val_split)\n",
        "\n",
        "for i in range(0, videos, pool_size):\n",
        "\n",
        "  print(\"---------- POOL START [{},{}]/{} ----------\".format(i,i+pool_size,videos))\n",
        "\n",
        "  pool = []\n",
        "  for j in range(i, i + pool_size):\n",
        "    if j < videos:\n",
        "      t = Thread( target=video_preprocessing, args=(val_split[j:j+1], PRETRAINED_INPUT_SIZE, 1, 1, True, \"Saved/ALL_framebyframe/Validation/\", False, False, yolo))\n",
        "      t.start()\n",
        "      pool.append(t)\n",
        "  for t in pool:\n",
        "    t.join()"
      ],
      "execution_count": null,
      "outputs": []
    },
    {
      "cell_type": "code",
      "metadata": {
        "id": "CdztaGqfEJjj"
      },
      "source": [
        "from threading import Thread\n",
        "\n",
        "pool_size = 12\n",
        "videos = len(test_split)\n",
        "\n",
        "for i in range(0, videos, pool_size):\n",
        "\n",
        "  print(\"---------- POOL START [{},{}]/{} ----------\".format(i,i+pool_size,videos))\n",
        "\n",
        "  pool = []\n",
        "  for j in range(i, i + pool_size):\n",
        "    if j < videos:\n",
        "      t = Thread( target=video_preprocessing, args=(test_split[j:j+1], PRETRAINED_INPUT_SIZE, 1, 1, False, \"Saved/CNN_with_normal/Test/\", False, 1, True, yolo))\n",
        "      t.start()\n",
        "      pool.append(t)\n",
        "  for t in pool:\n",
        "    t.join()"
      ],
      "execution_count": null,
      "outputs": []
    },
    {
      "cell_type": "markdown",
      "metadata": {
        "id": "M_45HeysxxDp"
      },
      "source": [
        "###Data Loading"
      ]
    },
    {
      "cell_type": "code",
      "metadata": {
        "id": "RTzLsDoH0lny"
      },
      "source": [
        "from threading import Thread\n",
        "import h5py\n",
        "\n",
        "class GetDataChunk(Thread):        \n",
        "\n",
        "  def __init__(self, path):\n",
        "    self.frames = None\n",
        "    self.optical_flows = None\n",
        "    self.boos = None\n",
        "    self.classes = None\n",
        "    self.path = path\n",
        "    super(GetDataChunk, self).__init__()\n",
        "    print(\"--- Thread for {} started...\".format(self.path))\n",
        "\n",
        "  def run(self):\n",
        "    with h5py.File(self.path, \"r\") as h5f:\n",
        "      self.frames = h5f[\"frames_batch\"][()]\n",
        "      self.optical_flows= h5f[\"optical_flows_batch\"][()]\n",
        "      self.boos = h5f[\"boos_bach\"][()]\n",
        "      self.classes = h5f[\"video_classes\"][()]\n",
        "      print(\"--- Thread for {} ended...\".format(self.path))\n"
      ],
      "execution_count": null,
      "outputs": []
    },
    {
      "cell_type": "markdown",
      "metadata": {
        "id": "_ZpFVE2oO5x_"
      },
      "source": [
        "####Trainingset Validationset"
      ]
    },
    {
      "cell_type": "code",
      "metadata": {
        "id": "mVzRH04xrfHW"
      },
      "source": [
        "import os\n",
        "\n",
        "BASE_PATH = \"Saved/CNN_preprocessing/\"\n",
        "\n",
        "# Get file-names in folders\n",
        "train_videos = [name for name in os.listdir(BASE_PATH + \"Train/\") if os.path.isfile(os.path.join(BASE_PATH + \"Train/\", name))]\n",
        "val_videos = [name for name in os.listdir(BASE_PATH + \"Validation/\") if os.path.isfile(os.path.join(BASE_PATH + \"Validation/\", name))]\n",
        "\n",
        "# Only anomalies \n",
        "#train_videos = [name for name in os.listdir(\"Saved/Train/\") if os.path.isfile(os.path.join(\"Saved/Train/\", name)) and \"Normal\" not in name]\n",
        "#val_videos = [name for name in os.listdir(\"Saved/Validation/\") if os.path.isfile(os.path.join(\"Saved/Validation/\", name)) and \"Normal\" not in name]"
      ],
      "execution_count": null,
      "outputs": []
    },
    {
      "cell_type": "code",
      "metadata": {
        "id": "al621uTJzdNF"
      },
      "source": [
        "import numpy as np\n",
        "from time import sleep\n",
        "from tqdm.notebook import tqdm\n",
        "\n",
        "folder = BASE_PATH + \"Train/\"\n",
        "pool_size = 12\n",
        "videos = len(train_videos)\n",
        "first = True\n",
        "\n",
        "for i in tqdm(range(0, videos, pool_size)):\n",
        "\n",
        "  print(\"---------- POOL START [{},{}]/{} ----------\".format(i,i+pool_size,videos))\n",
        "\n",
        "  pool = []\n",
        "  for j in range(i, i + pool_size):\n",
        "    if j < videos:\n",
        "      sleep(0.5)\n",
        "      t = t = GetDataChunk(folder+train_videos[j])\n",
        "      t.start()\n",
        "      pool.append(t)\n",
        "  for t in pool:\n",
        "    t.join()\n",
        "\n",
        "  for t in pool:\n",
        "    if first:\n",
        "      train_frames = t.frames\n",
        "      train_optical_flows= t.optical_flows\n",
        "      train_boos = t.boos\n",
        "      train_classes = t.classes\n",
        "      first = False\n",
        "    else:\n",
        "      train_frames = np.append(train_frames,t.frames)\n",
        "      train_optical_flows= np.append(train_optical_flows,t.optical_flows)\n",
        "      train_boos = np.append(train_boos,t.boos)\n",
        "      train_classes = np.append(train_classes,t.classes)\n",
        "\n",
        "# correctly reshape inputs and classes\n",
        "train_frames = np.array(train_frames).reshape(-1,PRETRAINED_INPUT_SIZE[0],PRETRAINED_INPUT_SIZE[1],PRETRAINED_INPUT_SIZE[2])\n",
        "train_optical_flows = np.array(train_optical_flows).reshape(-1,PRETRAINED_INPUT_SIZE[0],PRETRAINED_INPUT_SIZE[1],PRETRAINED_INPUT_SIZE[2])\n",
        "train_boos = np.array(train_boos).reshape(-1,N_COCO_CLASSES)\n",
        "train_classes = np.array(train_classes).reshape(-1,N_SUPERVISED_CLASSES)\n",
        "\n",
        "print(train_frames.shape)\n",
        "print(train_optical_flows.shape)\n",
        "print(train_boos.shape)\n",
        "print(train_classes.shape)"
      ],
      "execution_count": null,
      "outputs": []
    },
    {
      "cell_type": "code",
      "metadata": {
        "id": "MI6zsfDrABwS"
      },
      "source": [
        "import numpy as np\n",
        "from time import sleep\n",
        "from tqdm.notebook import tqdm\n",
        "\n",
        "folder = BASE_PATH + \"Validation/\"\n",
        "pool_size = 12\n",
        "videos = len(val_videos)\n",
        "first = True\n",
        "\n",
        "for i in tqdm(range(0, videos, pool_size)):\n",
        "\n",
        "  print(\"---------- POOL START [{},{}]/{} ----------\".format(i,i+pool_size,videos))\n",
        "\n",
        "  pool = []\n",
        "  for j in range(i, i + pool_size):\n",
        "    if j < videos:\n",
        "      sleep(0.5)\n",
        "      t = t = GetDataChunk(folder+val_videos[j])\n",
        "      t.start()\n",
        "      pool.append(t)\n",
        "  for t in pool:\n",
        "    t.join()\n",
        "\n",
        "  for t in pool:\n",
        "    if first:\n",
        "      val_frames = t.frames\n",
        "      val_optical_flows= t.optical_flows\n",
        "      val_boos = t.boos\n",
        "      val_classes = t.classes\n",
        "      first = False\n",
        "    else:\n",
        "      val_frames = np.append(val_frames,t.frames)\n",
        "      val_optical_flows= np.append(val_optical_flows,t.optical_flows)\n",
        "      val_boos = np.append(val_boos,t.boos)\n",
        "      val_classes = np.append(val_classes,t.classes)\n",
        "\n",
        "# correctly reshape inputs and classes\n",
        "val_frames = np.array(val_frames).reshape(-1,PRETRAINED_INPUT_SIZE[0],PRETRAINED_INPUT_SIZE[1],PRETRAINED_INPUT_SIZE[2])\n",
        "val_optical_flows = np.array(val_optical_flows).reshape(-1,PRETRAINED_INPUT_SIZE[0],PRETRAINED_INPUT_SIZE[1],PRETRAINED_INPUT_SIZE[2])\n",
        "val_boos = np.array(val_boos).reshape(-1,N_COCO_CLASSES)\n",
        "val_classes = np.array(val_classes).reshape(-1,N_SUPERVISED_CLASSES)\n",
        "\n",
        "print(val_frames.shape)\n",
        "print(val_optical_flows.shape)\n",
        "print(val_boos.shape)\n",
        "print(val_classes.shape)"
      ],
      "execution_count": null,
      "outputs": []
    },
    {
      "cell_type": "markdown",
      "metadata": {
        "id": "DYmVdbWHOxzf"
      },
      "source": [
        "####Testset"
      ]
    },
    {
      "cell_type": "code",
      "metadata": {
        "id": "Cv5wxKP0OrZz"
      },
      "source": [
        "import os\n",
        "test_videos = [name for name in os.listdir(\"Saved/CNN_with_normal/Test/\") if os.path.isfile(os.path.join(\"Saved/CNN_with_normal/Test/\", name))]\n",
        "\n",
        "# Only anomalies \n",
        "#test_videos = [name for name in os.listdir(\"Saved/Test/\") if os.path.isfile(os.path.join(\"Saved/Test/\", name)) and \"Normal\" not in name]"
      ],
      "execution_count": null,
      "outputs": []
    },
    {
      "cell_type": "code",
      "metadata": {
        "id": "ydHmPZoYBiCc"
      },
      "source": [
        "import numpy as np\n",
        "from time import sleep\n",
        "\n",
        "folder = \"Saved/CNN_with_normal/Test/\"\n",
        "pool_size = 12\n",
        "videos = len(test_videos)\n",
        "first = True\n",
        "\n",
        "for i in range(0, videos, pool_size):\n",
        "\n",
        "  print(\"---------- POOL START [{},{}]/{} ----------\".format(i,i+pool_size,videos))\n",
        "\n",
        "  pool = []\n",
        "  for j in range(i, i + pool_size):\n",
        "    if j < videos:\n",
        "      sleep(0.5)\n",
        "      t = t = GetDataChunk(folder+test_videos[j])\n",
        "      t.start()\n",
        "      pool.append(t)\n",
        "  for t in pool:\n",
        "    t.join()\n",
        "\n",
        "  for t in pool:\n",
        "    if first:\n",
        "      test_frames = t.frames\n",
        "      test_optical_flows= t.optical_flows\n",
        "      test_boos = t.boos\n",
        "      test_classes = t.classes\n",
        "      first = False\n",
        "    else:\n",
        "      test_frames = np.append(test_frames,t.frames)\n",
        "      test_optical_flows= np.append(test_optical_flows,t.optical_flows)\n",
        "      test_boos = np.append(test_boos,t.boos)\n",
        "      test_classes = np.append(test_classes,t.classes)\n",
        "\n",
        "# correctly reshape inputs and classes\n",
        "test_frames = np.array(test_frames).reshape(-1,PRETRAINED_INPUT_SIZE[0],PRETRAINED_INPUT_SIZE[1],PRETRAINED_INPUT_SIZE[2])\n",
        "test_optical_flows = np.array(test_optical_flows).reshape(-1,PRETRAINED_INPUT_SIZE[0],PRETRAINED_INPUT_SIZE[1],PRETRAINED_INPUT_SIZE[2])\n",
        "test_boos = np.array(test_boos).reshape(-1,N_COCO_CLASSES)\n",
        "test_classes = np.array(test_classes).reshape(-1,N_SUPERVISED_CLASSES)\n",
        "\n",
        "print(test_frames.shape)\n",
        "print(test_optical_flows.shape)\n",
        "print(test_boos.shape)\n",
        "print(test_classes.shape)"
      ],
      "execution_count": null,
      "outputs": []
    },
    {
      "cell_type": "code",
      "metadata": {
        "id": "ZgyweznoELZy"
      },
      "source": [
        "## Save all for quicker loading\n",
        "#with h5py.File(\"Saved/Train/ALL/preprocessing\", 'w') as hf:\n",
        "#          hf.create_dataset(\"frames_batch\",  data=train_frames)\n",
        "#          hf.create_dataset(\"optical_flows_batch\",  data=train_optical_flows)\n",
        "#          hf.create_dataset(\"boos_bach\",  data=train_boos)\n",
        "#          hf.create_dataset(\"video_classes\",  data=train_classes)\n",
        "#\n",
        "## Save all for quicker loading\n",
        "#with h5py.File(\"Saved/Validation/ALL/preprocessing\", 'w') as hf:\n",
        "#          hf.create_dataset(\"frames_batch\",  data=val_frames)\n",
        "#          hf.create_dataset(\"optical_flows_batch\",  data=val_optical_flows)\n",
        "#          hf.create_dataset(\"boos_bach\",  data=val_boos)\n",
        "#          hf.create_dataset(\"video_classes\",  data=val_classes)\n",
        "#\n",
        "## Save all for quicker loading\n",
        "#with h5py.File(\"Saved/Test/ALL/preprocessing\", 'w') as hf:\n",
        "#          hf.create_dataset(\"frames_batch\",  data=test_frames)\n",
        "#          hf.create_dataset(\"optical_flows_batch\",  data=test_optical_flows)\n",
        "#          hf.create_dataset(\"boos_bach\",  data=test_boos)\n",
        "#          hf.create_dataset(\"video_classes\",  data=test_classes)"
      ],
      "execution_count": null,
      "outputs": []
    },
    {
      "cell_type": "code",
      "metadata": {
        "id": "SnGwA8SOn9Tc"
      },
      "source": [
        "#N_TRAIN_FRAMES = 10380\n",
        "#N_VAL_FRAMES = 2201\n",
        "#N_TEST_FRAMES = 2352"
      ],
      "execution_count": null,
      "outputs": []
    },
    {
      "cell_type": "code",
      "metadata": {
        "id": "IV3veS6LLExQ"
      },
      "source": [
        "#import os\n",
        "#\n",
        "## Counts number of files on each folder\n",
        "#N_TRAIN_FRAMES = len([name for name in os.listdir(\"Saved/Train/\") if os.path.isfile(os.path.join(\"Saved/Train/\", name))])\n",
        "#N_VAL_FRAMES = len([name for name in os.listdir(\"Saved/Validation/\") if os.path.isfile(os.path.join(\"Saved/Validation/\", name))])\n",
        "#N_TEST_FRAMES = len([name for name in os.listdir(\"Saved/Test/\") if os.path.isfile(os.path.join(\"Saved/Test/\", name))])"
      ],
      "execution_count": null,
      "outputs": []
    },
    {
      "cell_type": "code",
      "metadata": {
        "id": "ohaplLn4MFWy"
      },
      "source": [
        "#print(N_TRAIN_FRAMES)\n",
        "#print(N_VAL_FRAMES)\n",
        "#print(N_TEST_FRAMES)"
      ],
      "execution_count": null,
      "outputs": []
    },
    {
      "cell_type": "code",
      "metadata": {
        "id": "wsor5125dqb4"
      },
      "source": [
        "import h5py\n",
        "with h5py.File(\"Saved/Train/ALL/preprocessing\", \"r\") as h5f:\n",
        "      train_frames = h5f[\"frames_batch\"][()]\n",
        "      train_optical_flows= h5f[\"optical_flows_batch\"][()]\n",
        "      train_boos = h5f[\"boos_bach\"][()]\n",
        "      train_classes = h5f[\"video_classes\"][()]\n",
        "\n",
        "# correctly reshape inputs and classes\n",
        "train_frames = np.array(train_frames).reshape(-1,FRAME_SIZES[0],FRAME_SIZES[1],FRAME_SIZES[2])\n",
        "train_optical_flows = np.array(train_optical_flows).reshape(-1,FRAME_SIZES[0],FRAME_SIZES[1],FRAME_SIZES[2])\n",
        "train_boos = np.array(train_boos).reshape(-1,N_COCO_CLASSES)\n",
        "train_classes = np.array(train_classes).reshape(-1,N_SUPERVISED_CLASSES)\n",
        "\n",
        "print(train_frames.shape)\n",
        "print(train_optical_flows.shape)\n",
        "print(train_boos.shape)\n",
        "print(train_classes.shape)"
      ],
      "execution_count": null,
      "outputs": []
    },
    {
      "cell_type": "code",
      "metadata": {
        "id": "M3rrw_H2fcWg"
      },
      "source": [
        "# correctly reshape inputs and classes\n",
        "train_frames = np.array(train_frames).reshape(-1,FRAME_SIZES[0],FRAME_SIZES[1],FRAME_SIZES[2])\n",
        "train_optical_flows = np.array(train_optical_flows).reshape(-1,FRAME_SIZES[0],FRAME_SIZES[1],FRAME_SIZES[2])\n",
        "train_boos = np.array(train_boos).reshape(-1,N_COCO_CLASSES)\n",
        "train_classes = np.array(train_classes).reshape(-1,N_SUPERVISED_CLASSES)\n",
        "\n",
        "print(train_frames.shape)\n",
        "print(train_optical_flows.shape)\n",
        "print(train_boos.shape)\n",
        "print(train_classes.shape)"
      ],
      "execution_count": null,
      "outputs": []
    },
    {
      "cell_type": "code",
      "metadata": {
        "id": "slbWHitVeAJD"
      },
      "source": [
        "with h5py.File(\"Saved/Validation/ALL/preprocessing\", \"r\") as h5f:\n",
        "      val_frames = h5f[\"frames_batch\"][()]\n",
        "      val_optical_flows= h5f[\"optical_flows_batch\"][()]\n",
        "      val_boos = h5f[\"boos_bach\"][()]\n",
        "      val_classes = h5f[\"video_classes\"][()]\n",
        "\n",
        "# correctly reshape inputs and classes\n",
        "val_frames = np.array(val_frames).reshape(-1,FRAME_SIZES[0],FRAME_SIZES[1],FRAME_SIZES[2])\n",
        "val_optical_flows = np.array(val_optical_flows).reshape(-1,FRAME_SIZES[0],FRAME_SIZES[1],FRAME_SIZES[2])\n",
        "val_boos = np.array(val_boos).reshape(-1,N_COCO_CLASSES)\n",
        "val_classes = np.array(val_classes).reshape(-1,N_SUPERVISED_CLASSES)\n",
        "\n",
        "print(val_frames.shape)\n",
        "print(val_optical_flows.shape)\n",
        "print(val_boos.shape)\n",
        "print(val_classes.shape)"
      ],
      "execution_count": null,
      "outputs": []
    },
    {
      "cell_type": "code",
      "metadata": {
        "id": "9jE3xiCweA2E"
      },
      "source": [
        "with h5py.File(\"Saved/Test/ALL/preprocessing\", \"r\") as h5f:\n",
        "      test_frames = h5f[\"frames_batch\"][()]\n",
        "      test_optical_flows= h5f[\"optical_flows_batch\"][()]\n",
        "      test_boos = h5f[\"boos_bach\"][()]\n",
        "      test_classes = h5f[\"video_classes\"][()]\n",
        "\n",
        "# correctly reshape inputs and classes\n",
        "test_frames = np.array(test_frames).reshape(-1,FRAME_SIZES[0],FRAME_SIZES[1],FRAME_SIZES[2])\n",
        "test_optical_flows = np.array(test_optical_flows).reshape(-1,FRAME_SIZES[0],FRAME_SIZES[1],FRAME_SIZES[2])\n",
        "test_boos = np.array(test_boos).reshape(-1,N_COCO_CLASSES)\n",
        "test_classes = np.array(test_classes).reshape(-1,N_SUPERVISED_CLASSES)\n",
        "\n",
        "print(test_frames.shape)\n",
        "print(test_optical_flows.shape)\n",
        "print(test_boos.shape)\n",
        "print(test_classes.shape)"
      ],
      "execution_count": null,
      "outputs": []
    },
    {
      "cell_type": "markdown",
      "metadata": {
        "id": "4JHSVKbhB9Lh"
      },
      "source": [
        "###Class Distributions"
      ]
    },
    {
      "cell_type": "code",
      "metadata": {
        "colab": {
          "base_uri": "https://localhost:8080/"
        },
        "id": "0s3BsCteB8QL",
        "outputId": "9bc2972f-478d-45bc-f454-e69b1b5458d5"
      },
      "source": [
        "import numpy as np\n",
        "# Pie chart, where the slices will be ordered and plotted counter-clockwise:\n",
        "labels = [\"Arrest\", \"Assault\", \"Burglary\", \"Robbery\", \"Stealing\", \"Vandalism\", \"Normal_Videos_event\"]\n",
        "sizes = [np.count_nonzero(train_classes[:,0]),np.count_nonzero(train_classes[:,1]),np.count_nonzero(train_classes[:,2]),np.count_nonzero(train_classes[:,3]),np.count_nonzero(train_classes[:,4]),np.count_nonzero(train_classes[:,5]),np.count_nonzero(train_classes[:,6])]\n",
        "explode = (0, 0, 0, 0, 0, 0, 0.2)  # only \"explode\" the 2nd slice \n",
        "\n",
        "fig1, ax1 = plt.subplots()\n",
        "ax1.pie(sizes, explode=explode, labels=labels, autopct='%1.1f%%',\n",
        "        shadow=True, startangle=90)\n",
        "ax1.axis('equal')  \n",
        "\n",
        "plt.show()\n",
        "print(labels)\n",
        "print(sizes)"
      ],
      "execution_count": null,
      "outputs": [
        {
          "output_type": "display_data",
          "data": {
            "text/plain": [
              "<Figure size 432x288 with 1 Axes>"
            ],
            "image/png": "[encoded data removed]"
          },
          "metadata": {
            "tags": []
          }
        },
        {
          "output_type": "stream",
          "text": [
            "['Arrest', 'Assault', 'Burglary', 'Robbery', 'Stealing', 'Vandalism', 'Normal_Videos_event']\n",
            "[684, 353, 543, 563, 566, 678, 6289]\n"
          ],
          "name": "stdout"
        }
      ]
    },
    {
      "cell_type": "code",
      "metadata": {
        "colab": {
          "base_uri": "https://localhost:8080/"
        },
        "id": "Imua6mE3CZAm",
        "outputId": "ff942261-985c-49f8-c86a-eb62be9f30ce"
      },
      "source": [
        "import matplotlib.pyplot as plt\n",
        "\n",
        "# Pie chart, where the slices will be ordered and plotted counter-clockwise:\n",
        "labels = [\"Arrest\", \"Assault\", \"Burglary\", \"Robbery\", \"Stealing\", \"Vandalism\", \"Normal_Videos_event\"]\n",
        "sizes = [np.count_nonzero(val_classes[:,0]),np.count_nonzero(val_classes[:,1]),np.count_nonzero(val_classes[:,2]),np.count_nonzero(val_classes[:,3]),np.count_nonzero(val_classes[:,4]),np.count_nonzero(val_classes[:,5]),np.count_nonzero(val_classes[:,6])]\n",
        "explode = (0, 0, 0, 0, 0, 0, 0.2)  # only \"explode\" the 2nd slice\n",
        "\n",
        "fig1, ax1 = plt.subplots()\n",
        "ax1.pie(sizes, explode=explode, labels=labels, autopct='%1.1f%%',\n",
        "        shadow=True, startangle=90)\n",
        "ax1.axis('equal')  \n",
        "\n",
        "plt.show()\n",
        "print(labels)\n",
        "print(sizes)"
      ],
      "execution_count": null,
      "outputs": [
        {
          "output_type": "display_data",
          "data": {
            "text/plain": [
              "<Figure size 432x288 with 1 Axes>"
            ],
            "image/png": "[encoded data removed]"
          },
          "metadata": {
            "tags": []
          }
        },
        {
          "output_type": "stream",
          "text": [
            "['Arrest', 'Assault', 'Burglary', 'Robbery', 'Stealing', 'Vandalism', 'Normal_Videos_event']\n",
            "[45, 121, 77, 134, 122, 49, 1499]\n"
          ],
          "name": "stdout"
        }
      ]
    },
    {
      "cell_type": "code",
      "metadata": {
        "id": "8jMwPDnwCjze",
        "colab": {
          "base_uri": "https://localhost:8080/"
        },
        "outputId": "0ba1fd18-f853-44f3-cc10-42e03c6e6308"
      },
      "source": [
        "import matplotlib.pyplot as plt\n",
        "\n",
        "# Pie chart, where the slices will be ordered and plotted counter-clockwise:\n",
        "labels = [\"Arrest\", \"Assault\", \"Burglary\", \"Robbery\", \"Stealing\", \"Vandalism\", \"Normal_Videos_event\"]\n",
        "sizes = [np.count_nonzero(test_classes[:,0]),np.count_nonzero(test_classes[:,1]),np.count_nonzero(test_classes[:,2]),np.count_nonzero(test_classes[:,3]),np.count_nonzero(test_classes[:,4]),np.count_nonzero(test_classes[:,5]),np.count_nonzero(test_classes[:,6])]\n",
        "explode = (0, 0, 0, 0, 0, 0, 0.2)  # only \"explode\" the 2nd slice \n",
        "\n",
        "fig1, ax1 = plt.subplots()\n",
        "ax1.pie(sizes, explode=explode, labels=labels, autopct='%1.1f%%',\n",
        "        shadow=True, startangle=90)\n",
        "ax1.axis('equal')  \n",
        "\n",
        "plt.show()\n",
        "print(labels)\n",
        "print(sizes)"
      ],
      "execution_count": null,
      "outputs": [
        {
          "output_type": "display_data",
          "data": {
            "text/plain": [
              "<Figure size 432x288 with 1 Axes>"
            ],
            "image/png": "[encoded data removed]"
          },
          "metadata": {
            "tags": []
          }
        },
        {
          "output_type": "stream",
          "text": [
            "['Arrest', 'Assault', 'Burglary', 'Robbery', 'Stealing', 'Vandalism', 'Normal_Videos_event']\n",
            "[143, 84, 182, 170, 179, 115, 1305]\n"
          ],
          "name": "stdout"
        }
      ]
    },
    {
      "cell_type": "markdown",
      "metadata": {
        "id": "yJ-TdSlUPALc"
      },
      "source": [
        "###Training and Validation"
      ]
    },
    {
      "cell_type": "code",
      "metadata": {
        "id": "Xe_kVS2_NNBD"
      },
      "source": [
        "CNN_classificator, pretrained_base_frame, pretrained_base_opt_flow = build_cnn_model(n_classes = 2, \n",
        "                                                                                      input_size = PRETRAINED_INPUT_SIZE, \n",
        "                                                                                      pretrained_network = ResNet50,\n",
        "                                                                                      optical_flow = True,\n",
        "                                                                                      bag_of_objects = True,\n",
        "                                                                                      show_summary = False)"
      ],
      "execution_count": null,
      "outputs": []
    },
    {
      "cell_type": "markdown",
      "metadata": {
        "id": "6qYA6BO9Of6s"
      },
      "source": [
        "####Setup"
      ]
    },
    {
      "cell_type": "code",
      "metadata": {
        "id": "Z34qgoAnuQOh"
      },
      "source": [
        "from tqdm.notebook import tqdm\n",
        "import numpy as np   \n",
        "import gc\n",
        "\n",
        "class Custom_Data_Generator(keras.utils.Sequence):\n",
        "  '''\n",
        "  Custom data generator to be used by keras model utilities to retreive and \n",
        "  preprocess batches of data\n",
        "  '''\n",
        "  \n",
        "  def __init__(\n",
        "      self, \n",
        "      indices=None, \n",
        "      batch_size=32, \n",
        "      shuffle=True,\n",
        "      path=None,\n",
        "      binary_classification=False,\n",
        "      hard_mining=False,\n",
        "      n_mined=None,\n",
        "      model=None,\n",
        "      loss_function=tf.keras.losses.CategoricalCrossentropy(),\n",
        "      optical_flow_data=None,\n",
        "      bag_of_objects_data=None,\n",
        "      frames_data=None,\n",
        "      classes=None\n",
        "  ):\n",
        "      self.batch_size = batch_size\n",
        "      self.shuffle = shuffle\n",
        "      self.indices = indices\n",
        "      self.path = path\n",
        "      self.binary_classification = binary_classification\n",
        "      self.hard_mining = hard_mining\n",
        "      self.n_mined = n_mined\n",
        "      self.loss_function = loss_function\n",
        "      self.model = model\n",
        "      self.on_epoch_end()\n",
        "      self.optical_flow_data = optical_flow_data\n",
        "      self.bag_of_objects_data = bag_of_objects_data\n",
        "      self.frames_data = frames_data\n",
        "      self.classes = classes\n",
        "\n",
        "  def on_epoch_end(self):\n",
        "      # shuffle indicies at epoch start\n",
        "      self.index = np.arange(len(self.indices))\n",
        "      if self.shuffle == True:\n",
        "            np.random.shuffle(self.index)\n",
        "\n",
        "  def __len__(self):\n",
        "      # Denotes the number of batches per epoch\n",
        "      return len(self.indices) // self.batch_size\n",
        "\n",
        "  def __getitem__(self, index):\n",
        "      # Generate one batch of data\n",
        "      # Generate indices of the batch\n",
        "      index = self.index[index * self.batch_size:(index + 1) * self.batch_size]     # Find list of IDs\n",
        "      batch = [self.indices[k] for k in index]     # Generate data\n",
        "      X, y = self.__get_data(batch)\n",
        "      return X, y\n",
        "\n",
        "  def getitem(self, index):\n",
        "    return self.__getitem__(index)\n",
        "\n",
        "  def __get_data(self, batch):\n",
        "      # get data from preprocessed videos   \n",
        "\n",
        "      if self.frames_data is None: \n",
        "        # loads batch\n",
        "        first = True\n",
        "        for id in tqdm(batch):\n",
        "          # loads preprocessed data from disk\n",
        "          preprocess_chunk = np.load(self.path + \"preprocessing_\" + str(id) + \".npy\", allow_pickle=True)\n",
        "          if first:\n",
        "            frames_batch = preprocess_chunk[0]\n",
        "            optical_flows_batch = preprocess_chunk[1]\n",
        "            boos_bach = preprocess_chunk[2]\n",
        "            video_classes = preprocess_chunk[3]\n",
        "            first = False\n",
        "            if self.binary_classification:\n",
        "              # transform to binary class\n",
        "              video_classes = [[c[-1], max(c[0:-1])] for c in video_classes]\n",
        "          else:\n",
        "            frames_batch = np.append(frames_batch, preprocess_chunk[0])\n",
        "            optical_flows_batch = np.append(optical_flows_batch, preprocess_chunk[1])\n",
        "            boos_bach = np.append(boos_bach, preprocess_chunk[2])\n",
        "            if self.binary_classification:\n",
        "              # transform to binary class\n",
        "              preprocess_chunk[3] = [[c[-1], max(c[0:-1])] for c in preprocess_chunk[3]]\n",
        "            video_classes = np.append(video_classes, preprocess_chunk[3])\n",
        "\n",
        "        # correctly reshape inputs and classes\n",
        "        frames_batch = np.array(frames_batch).reshape(-1,PRETRAINED_INPUT_SIZE[0],PRETRAINED_INPUT_SIZE[1],PRETRAINED_INPUT_SIZE[2])\n",
        "        optical_flows_batch = np.array(optical_flows_batch).reshape(-1,PRETRAINED_INPUT_SIZE[0],PRETRAINED_INPUT_SIZE[1],PRETRAINED_INPUT_SIZE[2])\n",
        "        boos_bach = np.array(boos_bach).reshape(-1,N_COCO_CLASSES)\n",
        "        if self.binary_classification:\n",
        "          video_classes = np.array(video_classes).reshape(-1,2)\n",
        "        else:\n",
        "          video_classes = np.array(video_classes).reshape(-1,N_SUPERVISED_CLASSES)\n",
        "\n",
        "      else: \n",
        "        # Have a dataset loaded\n",
        "        frames_batch = self.frames_data[batch]\n",
        "        input_batch = [frames_batch]\n",
        "        if self.optical_flow_data is not None:\n",
        "          optical_flows_batch = self.optical_flow_data[batch]\n",
        "          input_batch.append(optical_flows_batch)\n",
        "        if self.bag_of_objects_data is not None:  \n",
        "          boos_bach = self.bag_of_objects_data[batch]\n",
        "          input_batch.append(boos_bach)\n",
        "        video_classes = self.classes[batch]\n",
        "        if self.binary_classification:\n",
        "          # transform to binary class\n",
        "          video_classes = [[c[-1], max(c[0:-1])] for c in video_classes]\n",
        "          video_classes = np.array(video_classes).reshape(-1,2)\n",
        "\n",
        "\n",
        "      if self.hard_mining:\n",
        "        # mine only n_mined with higher loss\n",
        "        predictions = self.model.predict(input_batch, batch_size=self.n_mined)\n",
        "\n",
        "        # to prevent memory leaking after model.predict\n",
        "        keras.backend.clear_session() \n",
        "        gc.collect()\n",
        "\n",
        "        mined_indexes = np.array([self.loss_function(video_classes[i],predictions[i]).numpy() for i in range(len(predictions))]).argsort(axis=None)[-self.n_mined:]\n",
        "        np.random.shuffle(mined_indexes)\n",
        "\n",
        "        input_batch = [frames_batch[mined_indexes]]\n",
        "        if self.optical_flow_data is not None:\n",
        "          input_batch.append(optical_flows_batch[mined_indexes])\n",
        "        if self.bag_of_objects_data is not None:  \n",
        "          input_batch.append(boos_bach[mined_indexes])\n",
        "\n",
        "        return input_batch, video_classes[mined_indexes]\n",
        "\n",
        "      return input_batch, video_classes"
      ],
      "execution_count": null,
      "outputs": []
    },
    {
      "cell_type": "code",
      "metadata": {
        "id": "TTDjblQ9rZPx"
      },
      "source": [
        "from jupyterplot import ProgressPlot\n",
        "import numpy as np\n",
        "\n",
        "class PlotCallback(keras.callbacks.Callback):\n",
        "  def on_train_begin(self, logs={}):\n",
        "    self.pp = ProgressPlot(line_names=[\"Training\", \"Validation\"], x_iterator=False, plot_names=[\"Accuracy\",\"Loss\"], x_label=\"Epoch\")\n",
        "\n",
        "  def on_train_end(self, logs=None):\n",
        "    self.pp.finalize()\n",
        "\n",
        "  def on_epoch_end(self, epoch, logs=None):\n",
        "    self.pp.update(epoch, [[logs[\"accuracy\"], logs[\"val_accuracy\"]],[logs[\"loss\"], logs[\"val_loss\"]]])"
      ],
      "execution_count": null,
      "outputs": []
    },
    {
      "cell_type": "code",
      "metadata": {
        "id": "VMf1iCcVr4PK"
      },
      "source": [
        "import datetime\n",
        "class MailCallback(keras.callbacks.Callback):\n",
        "  def on_train_begin(self, logs={}):\n",
        "    self.history = \"[{}] ---------- TRAINING START ----------\".format(datetime.datetime.now().strftime(\"%Y/%m/%d-%H:%M:%S\"))\n",
        "    send_email(subject=MAIL_SUBJECT, text=self.history)\n",
        "\n",
        "  def on_train_end(self, logs=None):\n",
        "    self.history += \"\\n[{}] ---------- TRAINING END ----------\".format(datetime.datetime.now().strftime(\"%Y/%m/%d-%H:%M:%S\"))\n",
        "    send_email(subject=MAIL_SUBJECT, text=self.history)\n",
        "\n",
        "  def on_epoch_end(self, epoch, logs=None):\n",
        "    self.history += \"\\n[{}] EPOCH: {} | TRAIN_ACC: {:7.3f} | TRAIN_LOSS: {:7.3f} | VAL_ACC: {:7.3f} | VAL_LOSS: {:7.3f}\".format(datetime.datetime.now().strftime(\"%Y/%m/%d-%H:%M:%S\"), epoch, logs[\"accuracy\"], logs[\"loss\"], logs[\"val_accuracy\"], logs[\"val_loss\"])\n",
        "    send_email(subject=MAIL_SUBJECT, text=self.history)"
      ],
      "execution_count": null,
      "outputs": []
    },
    {
      "cell_type": "markdown",
      "metadata": {
        "id": "ls0GEq0Y_B0b"
      },
      "source": [
        "####Binary"
      ]
    },
    {
      "cell_type": "code",
      "metadata": {
        "id": "-iqh6iVF_DvD"
      },
      "source": [
        "MAIL_SUBJECT = \"RESNET_BINARY_NO_VALIDATION\"\n",
        "CHECKPOINT_PATH = \"Checkpoints/\"+MAIL_SUBJECT+\"/checkpoint.ckpt\"\n",
        "MAX_EPOCHS = 100\n",
        "BATCH_SIZE = 16\n",
        "BINARY_CLASSES = [\"Normal\", \"Anomaly\"]\n",
        "\n",
        "CLASS_WEIGHTS = {0:1., 1:2.}\n",
        "CANDIDATES_MULTIPLIER = 3\n",
        "\n",
        "# Save weights when model improves (In case of disconnection)\n",
        "cp_callback = tf.keras.callbacks.ModelCheckpoint(\n",
        "    filepath=CHECKPOINT_PATH, \n",
        "    verbose=1, \n",
        "    save_weights_only=True,\n",
        "    save_best_only=False ) \n",
        "\n",
        "# Automatically restore best weights after early stopping\n",
        "es_callback = tf.keras.callbacks.EarlyStopping(monitor = 'val_loss', patience = 5, restore_best_weights = True)\n",
        "\n",
        "# Tensorboard callback\n",
        "logdir = os.path.join(\"Saved/logs\", datetime.datetime.now().strftime(\"%Y%m%d-%H%M%S\"))\n",
        "tb_callback = tf.keras.callbacks.TensorBoard(logdir, histogram_freq=1)\n",
        "\n",
        "# Generators\n",
        "training_generator = Custom_Data_Generator(frames_data = train_frames,\n",
        "                                           optical_flow_data = train_optical_flows, \n",
        "                                           bag_of_objects_data = train_boos,\n",
        "                                           classes = train_classes, \n",
        "                                           model=CNN_classificator, \n",
        "                                           hard_mining=True, \n",
        "                                           n_mined=BATCH_SIZE, \n",
        "                                           binary_classification=True, \n",
        "                                           indices=range(0,train_classes.shape[0]), \n",
        "                                           batch_size=BATCH_SIZE*CANDIDATES_MULTIPLIER, \n",
        "                                           shuffle=True, \n",
        "                                           path=None)\n",
        "validation_generator = Custom_Data_Generator(frames_data = val_frames,\n",
        "                                             optical_flow_data = val_optical_flows, \n",
        "                                             bag_of_objects_data = val_boos,\n",
        "                                             classes = val_classes, \n",
        "                                             hard_mining=False, \n",
        "                                             binary_classification=True, \n",
        "                                             indices=range(0,val_classes.shape[0]), \n",
        "                                             batch_size=BATCH_SIZE, \n",
        "                                             shuffle=False, \n",
        "                                             path=None)"
      ],
      "execution_count": null,
      "outputs": []
    },
    {
      "cell_type": "code",
      "metadata": {
        "id": "rksVVZtcDLhr"
      },
      "source": [
        "# Freeze base models\n",
        "for layer in pretrained_base_frame.layers:\n",
        "    layer.trainable = False\n",
        "\n",
        "# Freeze base models\n",
        "if pretrained_base_opt_flow is not None: \n",
        "  for layer in pretrained_base_opt_flow.layers:\n",
        "      layer.trainable = False\n",
        "\n",
        "# Check the trainable status of the individual layers\n",
        "for layer in CNN_classificator.layers:\n",
        "    print(layer, layer.trainable)"
      ],
      "execution_count": null,
      "outputs": []
    },
    {
      "cell_type": "code",
      "metadata": {
        "id": "gmGNKPp-_6xv"
      },
      "source": [
        "CNN_classificator.compile(loss='categorical_crossentropy', optimizer= keras.optimizers.Adam(1e-5), metrics=['accuracy'])\n",
        " \n",
        "MAX_EPOCHS = 5\n",
        "\n",
        "history = CNN_classificator.fit(training_generator, \n",
        "                                validation_data = validation_generator, \n",
        "                                class_weight=CLASS_WEIGHTS, \n",
        "                                epochs=MAX_EPOCHS, \n",
        "                                workers=1, \n",
        "                                use_multiprocessing=False, \n",
        "                                callbacks=[cp_callback, \n",
        "                                           #es_callback, \n",
        "                                           MailCallback() \n",
        "                                           #PlotCallback()\n",
        "                                           ])\n",
        "#plot_history(history.history)"
      ],
      "execution_count": null,
      "outputs": []
    },
    {
      "cell_type": "code",
      "metadata": {
        "id": "2ak4sMbxEHOj"
      },
      "source": [
        "# Check the trainable status of the individual layers\n",
        "for layer in CNN_classificator.layers:\n",
        "  # unfreeze all but batch norm layers\n",
        "  if not \"bn\" in layer.name:\n",
        "    layer.trainable = True \n",
        "  print(layer, layer.trainable)"
      ],
      "execution_count": null,
      "outputs": []
    },
    {
      "cell_type": "code",
      "metadata": {
        "id": "yWk7NU3dEVbJ"
      },
      "source": [
        "CNN_classificator.compile(loss='categorical_crossentropy', optimizer= keras.optimizers.Adam(1e-6), metrics=['accuracy'])\n",
        " \n",
        "MAX_EPOCHS = 2\n",
        "\n",
        "history = CNN_classificator.fit(training_generator, \n",
        "                                validation_data = validation_generator, \n",
        "                                class_weight=CLASS_WEIGHTS, \n",
        "                                epochs=MAX_EPOCHS, \n",
        "                                workers=1, \n",
        "                                use_multiprocessing=False, \n",
        "                                callbacks=[cp_callback, \n",
        "                                           #es_callback, \n",
        "                                           MailCallback() \n",
        "                                           #PlotCallback()\n",
        "                                           ])\n",
        "#plot_history(history.history)"
      ],
      "execution_count": null,
      "outputs": []
    },
    {
      "cell_type": "markdown",
      "metadata": {
        "id": "vmy63XOSK7J2"
      },
      "source": [
        "###Test"
      ]
    },
    {
      "cell_type": "markdown",
      "metadata": {
        "id": "pyPoJhnDkO54"
      },
      "source": [
        "####Binary"
      ]
    },
    {
      "cell_type": "markdown",
      "metadata": {
        "id": "kDz3kbYaBWRQ"
      },
      "source": [
        "#####From Drive"
      ]
    },
    {
      "cell_type": "code",
      "metadata": {
        "id": "Kga12_gvGDQN"
      },
      "source": [
        "import os\n",
        "test_videos = [name for name in os.listdir(\"Saved/CNN_with_normal/Test/\") if os.path.isfile(os.path.join(\"Saved/CNN_with_normal/Test/\", name))]"
      ],
      "execution_count": null,
      "outputs": []
    },
    {
      "cell_type": "code",
      "metadata": {
        "id": "TUtk4oMhElu7"
      },
      "source": [
        "MODEL = \"RESNET_BINARY_NOFLOW_1\"\n",
        "TEST_BATCH_SIZE = 16\n",
        "CHECKPOINT_PATH = \"Checkpoints/{}/checkpoint.ckpt\".format(MODEL)\n",
        "\n",
        "CNN_classificator.load_weights(CHECKPOINT_PATH)"
      ],
      "execution_count": null,
      "outputs": []
    },
    {
      "cell_type": "code",
      "metadata": {
        "id": "kXORGQ5yBUi8"
      },
      "source": [
        "from threading import Thread\n",
        "import h5py\n",
        "import gc\n",
        "\n",
        "class PredictDataChunk(Thread):        \n",
        "\n",
        "  def __init__(self, path, model, batch_size):\n",
        "    self.frames = None\n",
        "    self.optical_flows = None\n",
        "    self.boos = None\n",
        "    self.labels = None\n",
        "    self.path = path\n",
        "    self.predicted_classes = None\n",
        "    self.model = model\n",
        "    self.batch_size = batch_size\n",
        "    super(PredictDataChunk, self).__init__()\n",
        "    print(\"--- Thread for {} started...\".format(self.path))\n",
        "\n",
        "  def run(self):\n",
        "    with h5py.File(self.path, \"r\") as h5f:\n",
        "      self.frames = h5f[\"frames_batch\"][()]\n",
        "      self.optical_flows = h5f[\"optical_flows_batch\"][()]\n",
        "      self.boos = h5f[\"boos_bach\"][()]\n",
        "      self.labels = h5f[\"video_classes\"][()]\n",
        "      # correctly reshape inputs and classes\n",
        "      self.frames = np.array(self.frames).reshape(-1,PRETRAINED_INPUT_SIZE[0],PRETRAINED_INPUT_SIZE[1],PRETRAINED_INPUT_SIZE[2])\n",
        "      self.optical_flows = np.array(self.optical_flows).reshape(-1,PRETRAINED_INPUT_SIZE[0],PRETRAINED_INPUT_SIZE[1],PRETRAINED_INPUT_SIZE[2])\n",
        "      self.boos = np.array(self.boos).reshape(-1,N_COCO_CLASSES)\n",
        "      self.labels = np.array(self.labels).reshape(-1,N_SUPERVISED_CLASSES)\n",
        "\n",
        "    inputs = [self.frames]\n",
        "    if any(\"opt_flow\" in i for i in self.model.input_names):\n",
        "      inputs.append(self.optical_flows)\n",
        "    if any(\"bag_of_objects\" in i for i in self.model.input_names):\n",
        "      inputs.append(self.boos) \n",
        "\n",
        "    self.predicted_classes = self.model.predict(inputs, self.batch_size)\n",
        "\n",
        "    # to prevent memory leaking after model.predict\n",
        "    keras.backend.clear_session() \n",
        "    gc.collect()\n",
        "\n",
        "    print(\"--- Thread for {} ended...\".format(self.path))\n"
      ],
      "execution_count": null,
      "outputs": []
    },
    {
      "cell_type": "code",
      "metadata": {
        "id": "TYkiJmHdAVmy"
      },
      "source": [
        "import numpy as np\n",
        "from time import sleep\n",
        "\n",
        "folder = \"Saved/CNN_with_normal/Test/\"\n",
        "pool_size = 5\n",
        "videos = len(test_videos)\n",
        "first = True\n",
        "\n",
        "for i in range(0, videos, pool_size):\n",
        "\n",
        "  print(\"---------- POOL START [{},{}]/{} ----------\".format(i,i+pool_size,videos))\n",
        "\n",
        "  pool = []\n",
        "  for j in range(i, i + pool_size):\n",
        "    if j < videos:\n",
        "      sleep(0.5)\n",
        "      t = PredictDataChunk(folder+test_videos[j], CNN_classificator, TEST_BATCH_SIZE)\n",
        "      t.start()\n",
        "      pool.append(t)\n",
        "  for t in pool:\n",
        "    t.join()\n",
        "\n",
        "  for t in pool:\n",
        "    if first:\n",
        "      first = False\n",
        "      true_lables = t.labels\n",
        "      predicted_labels = t.predicted_classes\n",
        "    else:\n",
        "      true_lables = np.append(true_lables, t.labels)\n",
        "      predicted_labels = np.append(predicted_labels, t.predicted_classes)\n",
        "\n",
        "predicted_labels = np.array(predicted_labels).reshape(-1,2)\n",
        "true_lables = np.array(true_lables).reshape(-1,N_SUPERVISED_CLASSES)\n",
        "true_lables = np.array([[c[-1], max(c[0:-1])] for c in true_lables])"
      ],
      "execution_count": null,
      "outputs": []
    },
    {
      "cell_type": "markdown",
      "metadata": {
        "id": "mBOo0GU6Bbf_"
      },
      "source": [
        "#####In Memory"
      ]
    },
    {
      "cell_type": "code",
      "metadata": {
        "id": "U4hicVw0Em5p"
      },
      "source": [
        "MODEL = MAIL_SUBJECT\n",
        "TEST_BATCH_SIZE = 16\n",
        "CHECKPOINT_PATH = \"Checkpoints/{}/checkpoint.ckpt\".format(MODEL)\n",
        "N_TEST_FRAMES = test_classes.shape[0]\n",
        "\n",
        "CNN_classificator.load_weights(CHECKPOINT_PATH)\n",
        "test_generator = Custom_Data_Generator( frames_data = test_frames,\n",
        "                                        optical_flow_data = test_optical_flows,\n",
        "                                        bag_of_objects_data = test_boos,\n",
        "                                        classes = test_classes, \n",
        "                                        hard_mining=False, \n",
        "                                        binary_classification=True, \n",
        "                                        indices=range(0,test_classes.shape[0]), \n",
        "                                        batch_size=TEST_BATCH_SIZE, \n",
        "                                        shuffle=False, \n",
        "                                        path=None)"
      ],
      "execution_count": null,
      "outputs": []
    },
    {
      "cell_type": "code",
      "metadata": {
        "id": "Kx-DgI9LkS83"
      },
      "source": [
        "from tqdm.notebook import tqdm\n",
        "\n",
        "first = True\n",
        "for i in tqdm(range(0,N_TEST_FRAMES//TEST_BATCH_SIZE)):\n",
        "  X,y = test_generator.getitem(i)\n",
        "  predicted_classes = CNN_classificator.predict(X)\n",
        "  if first:\n",
        "    first = False\n",
        "    true_lables = y\n",
        "    predicted_labels = predicted_classes\n",
        "  else:\n",
        "    true_lables = np.append(true_lables, y)\n",
        "    predicted_labels = np.append(predicted_labels, predicted_classes)\n",
        "\n",
        "predicted_labels = np.array(predicted_labels).reshape(-1,2)\n",
        "true_lables = np.array(true_lables).reshape(-1,2)"
      ],
      "execution_count": null,
      "outputs": []
    },
    {
      "cell_type": "markdown",
      "metadata": {
        "id": "zIOnNYT9Bh9y"
      },
      "source": [
        "#####Results"
      ]
    },
    {
      "cell_type": "code",
      "metadata": {
        "id": "vLLVEyfekYnS"
      },
      "source": [
        "from sklearn.linear_model import LogisticRegression\n",
        "from sklearn.metrics import confusion_matrix\n",
        "\n",
        "true_y = [y.argmax() for y in true_lables]\n",
        "pred_y = [y.argmax() for y in predicted_labels]\n",
        "\n",
        "cf_matrix = confusion_matrix(true_y, pred_y)\n",
        "make_confusion_matrix(cf_matrix, categories=BINARY_CLASSES)"
      ],
      "execution_count": null,
      "outputs": []
    },
    {
      "cell_type": "code",
      "metadata": {
        "id": "49Yxq8NVESSL"
      },
      "source": [
        "fpr, tpr, _ = roc_curve(true_lables[:,0], predicted_labels[:,0])\n",
        "roc_auc = auc(fpr, tpr)\n",
        "plt.plot(fpr, tpr, color=plt.cm.winter(1),lw=2, label= \"CNN binary\" + ' (area = %0.3f)' % roc_auc)\n",
        "    \n",
        "plt.plot([0, 1], [0, 1], color='gray', lw=2, linestyle='--')\n",
        "plt.xlim([0.0, 1.0])\n",
        "plt.ylim([0.0, 1.0])\n",
        "plt.gca().set_aspect('equal', adjustable='box')\n",
        "plt.xlabel('False Positive Rate')\n",
        "plt.ylabel('True Positive Rate')\n",
        "plt.title('Receiver operating characteristic')\n",
        "plt.legend(loc=\"lower right\")\n",
        "\n",
        "plt.show()"
      ],
      "execution_count": null,
      "outputs": []
    },
    {
      "cell_type": "markdown",
      "metadata": {
        "id": "AnOhzDG9WRiH"
      },
      "source": [
        "##C3D"
      ]
    },
    {
      "cell_type": "markdown",
      "metadata": {
        "id": "TZIan6wsY28H"
      },
      "source": [
        "###Preprocessing"
      ]
    },
    {
      "cell_type": "code",
      "metadata": {
        "id": "SD1sT7GIWOlY"
      },
      "source": [
        "import cv2\n",
        "import numpy as np\n",
        "from IPython.display import clear_output \n",
        "from time import sleep\n",
        "from collections import Counter\n",
        "from sklearn.preprocessing import Normalizer\n",
        "from tqdm.notebook import tqdm\n",
        "import math\n",
        "import os\n",
        "import h5py\n",
        "import _thread\n",
        "\n",
        "def video_preprocessing_c3d(\n",
        "                videos_split = train_split,\n",
        "                input_size = C3D_INPUT_SIZE,\n",
        "                sample_rate = 4, # equivalent to 2.13 seconds chunks (2 seconds in original paper)\n",
        "                not_consider_normal_in_anomalies = True,\n",
        "                store_one_video_at_time=False,\n",
        "                temporal_stride = 4, # (8 in original paper)\n",
        "                normal_videos_temporal_stride = 8, # to undersampling normal videos preserving variety\n",
        "                save_path = \"Saved/C3D_preprocessed_data/Training/\",\n",
        "                object_detector = yolo\n",
        "              ):\n",
        "\n",
        "  for video, video_idx in zip(videos_split[0],range(0,len(videos_split))):\n",
        "\n",
        "    retry = True\n",
        "    while retry:\n",
        "    # Retry till success\n",
        "      retry = False\n",
        "\n",
        "      try:\n",
        "        # Variables \n",
        "        first_frame = True\n",
        "        accumulated_frames = None\n",
        "        accumulated_boo = None\n",
        "        new_acc_frames_count = 0\n",
        "        first_accumulation = True\n",
        "        save = False\n",
        "        chunk_count = 0\n",
        "        anomalous_video = \"Normal_Videos\" not in video # True if anomalous\n",
        "        normal_video = \"Normal_Videos\" in video # True if normal\n",
        "\n",
        "        if anomalous_video:\n",
        "          annotations = pd.read_csv(\"Data/framebyframe_annotations/annotations/\"+video+\".txt\", header=None,sep=\" \")\n",
        "          video_class = annotations.iloc[:,-1][0]\n",
        "          frame_annotations = annotations[annotations[6] != 1][5].tolist()\n",
        "        else:\n",
        "          video_class = \"Normal_Videos_event\"\n",
        "\n",
        "        # Capture video from file or link\n",
        "        if anomalous_video:\n",
        "          video_path = \"Data/Videos/\" + video_class + \"/\" + video.strip() + \"_x264.mp4\"\n",
        "        else:\n",
        "          video_path = \"Data/Videos/Training_Normal_Videos_Anomaly/\" + video.strip() + \"_x264.mp4\"\n",
        "\n",
        "        print(\"Video: \" + str(video_path))\n",
        "\n",
        "        cap = cv2.VideoCapture(video_path)\n",
        "        total_frames = int(cap.get(cv2.CAP_PROP_FRAME_COUNT))\n",
        "\n",
        "        # Loop the video\n",
        "        for frame_idx in tqdm(range(0, total_frames)):\n",
        "\n",
        "          # Read frames in order\n",
        "          _, frame = cap.read()\n",
        "\n",
        "          if frame_idx % sample_rate == 0:\n",
        "            # Frame to be elaborated\n",
        "\n",
        "            if not normal_video:\n",
        "              anomalous_frame = frame_idx in frame_annotations # true if anomalous\n",
        "\n",
        "            if anomalous_video and anomalous_frame:\n",
        "              # anomalous frame\n",
        "              frame_class = video_class\n",
        "            else:\n",
        "              # normal frame in anomalous video\n",
        "              frame_class = \"Normal_Videos_event\"\n",
        "\n",
        "            # class in one_hot_encoding\n",
        "            one_hot_class = np.zeros(N_SUPERVISED_CLASSES)\n",
        "            one_hot_class[CLASSES.index(frame_class)] = 1\n",
        "\n",
        "            # objects detection\n",
        "            if not not_consider_normal_in_anomalies or (not_consider_normal_in_anomalies and anomalous_video and anomalous_frame) or normal_video:\n",
        "              # only normal frames in normal videos or anomalous frames in anomalous videos if not_consider_normal_in_anomalies == True\n",
        "                \n",
        "              # # objects detection\n",
        "              frame_rgb = cv2.cvtColor(frame, cv2.COLOR_BGR2RGB)\n",
        "              _, bag_of_objects = yolov4_detect_bag_of_objects(frame_rgb, object_detector)\n",
        "\n",
        "              # features extraction\n",
        "              # preprocess_input want RGB images in input\n",
        "              frame_resized = cv2.resize(frame_rgb, (input_size[1],input_size[2]), interpolation = cv2.INTER_AREA)\n",
        "            \n",
        "              if first_frame:\n",
        "\n",
        "                # first accumulated frame\n",
        "                first_frame = False\n",
        "                accumulated_frames = np.array(frame_resized)\n",
        "                accumulated_boos = np.array(bag_of_objects)\n",
        "                new_acc_frames_count = 1\n",
        "                first_accumulation = True\n",
        "                #print(f\"First {(frame_idx // sample_rate)}\")\n",
        "\n",
        "              else: \n",
        "\n",
        "                if first_accumulation:\n",
        "                  # Need to accumulate all frames from first one\n",
        "                  accumulated_frames = np.append(accumulated_frames,frame_resized)\n",
        "                  accumulated_boos = np.append(accumulated_boos, bag_of_objects)\n",
        "                  new_acc_frames_count += 1\n",
        "                  if new_acc_frames_count == input_size[0]:\n",
        "                    # All frames accumulated, save\n",
        "                    first_accumulation = False\n",
        "                    new_acc_frames_count = 0\n",
        "                    accumulated_frames = accumulated_frames.reshape(input_size[0],input_size[1],input_size[2],input_size[3])\n",
        "                    accumulated_boos = accumulated_boos.reshape(-1,N_COCO_CLASSES)\n",
        "                    save = True\n",
        "                    #print(f\"Save first {(frame_idx // sample_rate) + 1}\")\n",
        "\n",
        "                else:\n",
        "                  # need other \"temporal_stride\" frames \n",
        "                  accumulated_frames = accumulated_frames[1:] # pop first\n",
        "                  accumulated_frames = np.append(accumulated_frames,frame_resized)\n",
        "                  accumulated_frames = accumulated_frames.reshape(input_size[0],input_size[1],input_size[2],input_size[3])\n",
        "                  accumulated_boos = accumulated_boos[1:]\n",
        "                  accumulated_boos = np.append(accumulated_boos,bag_of_objects)\n",
        "                  accumulated_boos = accumulated_boos.reshape(-1,N_COCO_CLASSES)\n",
        "                  new_acc_frames_count += 1\n",
        "                  if (anomalous_video and new_acc_frames_count == temporal_stride) or (normal_video and new_acc_frames_count == normal_videos_temporal_stride):\n",
        "                    # New \"temporal_stride\" frames accumulated, save\n",
        "                    new_acc_frames_count = 0\n",
        "                    save = True\n",
        "                    #print(f\"Save next {(frame_idx // sample_rate) + 1}\")\n",
        "\n",
        "                if save:\n",
        "                  # save frames chunk\n",
        "                  save = False\n",
        "\n",
        "                  tmp_path = f\"{save_path}{str(video.strip())}/\"\n",
        "\n",
        "                  if not os.path.exists(tmp_path):\n",
        "                    os.makedirs(tmp_path)\n",
        "\n",
        "                  # too large for classical numpy save\n",
        "                  with h5py.File(f\"{tmp_path}preprocessing_{chunk_count}\", 'w') as hf:\n",
        "                    hf.create_dataset(\"accumulated_frames\",  data=accumulated_frames)\n",
        "                    hf.create_dataset(\"one_hot_class\", data=one_hot_class)\n",
        "                    hf.create_dataset(\"accumulated_boos\", data=accumulated_boos)\n",
        "\n",
        "                  chunk_count += 1\n",
        "\n",
        "            else:\n",
        "              # Normal frame in anomalous video\n",
        "              first_frame = True #restart accumulation\n",
        "\n",
        "      except Exception as ex:\n",
        "        # To prevent redoing all preprocessing for some I/O error\n",
        "        print(\"ERROR: '\" + str(ex) + \"' for \" + str(video.strip()) + \" retrying...\")\n",
        "        retry = True"
      ],
      "execution_count": null,
      "outputs": []
    },
    {
      "cell_type": "code",
      "metadata": {
        "id": "0hv2qDIR6RRz"
      },
      "source": [
        "from threading import Thread\n",
        "\n",
        "pool_size = 12\n",
        "videos = len(train_split)\n",
        "\n",
        "# Preprocess all videos \n",
        "for i in range(0, videos, pool_size):\n",
        "\n",
        "  print(\"---------- POOL START [{},{}]/{} ----------\".format(i,i+pool_size,videos))\n",
        "\n",
        "  pool = []\n",
        "  for j in range(i, i + pool_size):\n",
        "    if j < videos:\n",
        "      t = Thread( target=video_preprocessing_c3d, args=(train_split[j:j+1],C3D_INPUT_SIZE,4,True,False,4,8,\"Saved/C3D_preprocessed_data/Training/\") )\n",
        "      t.start()\n",
        "      pool.append(t)\n",
        "  for t in pool:\n",
        "    t.join()"
      ],
      "execution_count": null,
      "outputs": []
    },
    {
      "cell_type": "code",
      "metadata": {
        "id": "IZVKEOnw_eG1"
      },
      "source": [
        "from threading import Thread\n",
        "\n",
        "pool_size = 12\n",
        "videos = len(val_split)\n",
        "\n",
        "# Preprocess all videos \n",
        "for i in range(0, videos, pool_size):\n",
        "\n",
        "  print(\"---------- POOL START [{},{}]/{} ----------\".format(i,i+pool_size,videos))\n",
        "\n",
        "  pool = []\n",
        "  for j in range(i, i + pool_size):\n",
        "    if j < videos:\n",
        "      t = Thread( target=video_preprocessing_c3d, args=(val_split[j:j+1],C3D_INPUT_SIZE,4,True,False,4,8,\"Saved/C3D_preprocessed_data/Validation/\") )\n",
        "      t.start()\n",
        "      pool.append(t)\n",
        "  for t in pool:\n",
        "    t.join()"
      ],
      "execution_count": null,
      "outputs": []
    },
    {
      "cell_type": "code",
      "metadata": {
        "id": "P9lPxCLP_fEq"
      },
      "source": [
        "from threading import Thread\n",
        "\n",
        "pool_size = 12\n",
        "videos = len(test_split)\n",
        "\n",
        "# Preprocess all videos \n",
        "for i in range(0, videos, pool_size):\n",
        "\n",
        "  print(\"---------- POOL START [{},{}]/{} ----------\".format(i,i+pool_size,videos))\n",
        "\n",
        "  pool = []\n",
        "  for j in range(i, i + pool_size):\n",
        "    if j < videos:\n",
        "      t = Thread( target=video_preprocessing_c3d, args=(test_split[j:j+1],C3D_INPUT_SIZE,4,True,False,4,8,\"Saved/C3D_preprocessed_data/Test/\") )\n",
        "      t.start()\n",
        "      pool.append(t)\n",
        "  for t in pool:\n",
        "    t.join()"
      ],
      "execution_count": null,
      "outputs": []
    },
    {
      "cell_type": "markdown",
      "metadata": {
        "id": "TgrFnVeP_Vs9"
      },
      "source": [
        "###Data Loading"
      ]
    },
    {
      "cell_type": "code",
      "metadata": {
        "id": "KqQ_ZzMG_bJ3"
      },
      "source": [
        "from threading import Thread\n",
        "import h5py\n",
        "\n",
        "class GetDataChunk(Thread):        \n",
        "\n",
        "  def __init__(self, path):\n",
        "    self.frames = None\n",
        "    self.classes = None\n",
        "    self.bag_of_objects = None\n",
        "    self.path = path\n",
        "    super(GetDataChunk, self).__init__()\n",
        "    print(\"--- Thread for {} started...\".format(self.path))\n",
        "\n",
        "  def run(self):\n",
        "    with h5py.File(self.path, \"r\") as h5f:\n",
        "      self.frames = h5f[\"accumulated_frames\"][()]\n",
        "      self.classes = h5f[\"one_hot_class\"][()]\n",
        "      self.bag_of_objects = h5f[\"accumulated_boos\"][()]\n",
        "      print(\"--- Thread for {} ended...\".format(self.path))"
      ],
      "execution_count": null,
      "outputs": []
    },
    {
      "cell_type": "code",
      "metadata": {
        "id": "4U8u9UuD_7GQ"
      },
      "source": [
        "import os\n",
        "train_videos = []\n",
        "val_videos = []\n",
        "test_videos = []\n",
        "\n",
        "# Get file-names in folders\n",
        "for path, subdirs, files in os.walk(\"Saved/C3D_preprocessed_data/Training/\"):\n",
        "    for name in files:\n",
        "        train_videos.append(os.path.join(path, name))\n",
        "\n",
        "# Get file-names in folders\n",
        "for path, subdirs, files in os.walk(\"Saved/C3D_preprocessed_data/Validation/\"):\n",
        "    for name in files:\n",
        "        val_videos.append(os.path.join(path, name))\n",
        "\n",
        "# Get file-names in folders\n",
        "for path, subdirs, files in os.walk(\"Saved/C3D_preprocessed_data/Test/\"):\n",
        "    for name in files:\n",
        "        test_videos.append(os.path.join(path, name))"
      ],
      "execution_count": null,
      "outputs": []
    },
    {
      "cell_type": "code",
      "metadata": {
        "id": "7_HFcoArBHed"
      },
      "source": [
        "import numpy as np\n",
        "from time import sleep\n",
        "from tqdm.notebook import tqdm\n",
        "\n",
        "pool_size = 12\n",
        "videos = len(train_videos)\n",
        "first = True\n",
        "\n",
        "for i in tqdm(range(0, videos, pool_size)):\n",
        "\n",
        "  print(\"---------- POOL START [{},{}]/{} ----------\".format(i,i+pool_size,videos))\n",
        "\n",
        "  pool = []\n",
        "  for j in range(i, i + pool_size):\n",
        "    if j < videos:\n",
        "      sleep(0.1)\n",
        "      t = t = GetDataChunk(train_videos[j])\n",
        "      t.start()\n",
        "      pool.append(t)\n",
        "  for t in pool:\n",
        "    t.join()\n",
        "\n",
        "  for t in pool:\n",
        "    if first:\n",
        "      train_frames = t.frames\n",
        "      train_classes = t.classes\n",
        "      train_bag_of_objects = t.bag_of_objects\n",
        "      first = False\n",
        "    else:\n",
        "      train_frames = np.append(train_frames,t.frames)\n",
        "      train_classes = np.append(train_classes,t.classes)\n",
        "      train_bag_of_objects = np.append(train_bag_of_objects,t.bag_of_objects)\n",
        "\n",
        "# correctly reshape inputs and classes\n",
        "train_frames = np.array(train_frames).reshape(-1,C3D_INPUT_SIZE[0],C3D_INPUT_SIZE[1],C3D_INPUT_SIZE[2],C3D_INPUT_SIZE[3])\n",
        "train_classes = np.array(train_classes).reshape(-1,N_SUPERVISED_CLASSES)\n",
        "train_bag_of_objects = np.array(train_bag_of_objects).reshape(-1,C3D_INPUT_SIZE[0],N_COCO_CLASSES)\n",
        "\n",
        "print(train_frames.shape)\n",
        "print(train_classes.shape)\n",
        "print(train_bag_of_objects.shape)"
      ],
      "execution_count": null,
      "outputs": []
    },
    {
      "cell_type": "code",
      "metadata": {
        "id": "JnAJHAdLFYgF"
      },
      "source": [
        "import numpy as np\n",
        "from time import sleep\n",
        "from tqdm.notebook import tqdm\n",
        "\n",
        "pool_size = 12\n",
        "videos = len(val_videos)\n",
        "first = True\n",
        "\n",
        "for i in tqdm(range(0, videos, pool_size)):\n",
        "\n",
        "  print(\"---------- POOL START [{},{}]/{} ----------\".format(i,i+pool_size,videos))\n",
        "\n",
        "  pool = []\n",
        "  for j in range(i, i + pool_size):\n",
        "    if j < videos:\n",
        "      sleep(0.1)\n",
        "      t = t = GetDataChunk(val_videos[j])\n",
        "      t.start()\n",
        "      pool.append(t)\n",
        "  for t in pool:\n",
        "    t.join()\n",
        "\n",
        "  for t in pool:\n",
        "    if first:\n",
        "      val_frames = t.frames\n",
        "      val_classes = t.classes\n",
        "      val_bag_of_objects = t.bag_of_objects\n",
        "      first = False\n",
        "    else:\n",
        "      val_frames = np.append(val_frames,t.frames)\n",
        "      val_classes = np.append(val_classes,t.classes)\n",
        "      val_bag_of_objects = np.append(val_bag_of_objects,t.bag_of_objects)\n",
        "\n",
        "# correctly reshape inputs and classes\n",
        "val_frames = np.array(val_frames).reshape(-1,C3D_INPUT_SIZE[0],C3D_INPUT_SIZE[1],C3D_INPUT_SIZE[2],C3D_INPUT_SIZE[3])\n",
        "val_classes = np.array(val_classes).reshape(-1,N_SUPERVISED_CLASSES)\n",
        "val_bag_of_objects = np.array(val_bag_of_objects).reshape(-1,C3D_INPUT_SIZE[0],N_COCO_CLASSES)\n",
        "\n",
        "print(val_frames.shape)\n",
        "print(val_classes.shape)\n",
        "print(val_bag_of_objects.shape)"
      ],
      "execution_count": null,
      "outputs": []
    },
    {
      "cell_type": "code",
      "metadata": {
        "id": "7r1ZoI4UFZJb"
      },
      "source": [
        "import numpy as np\n",
        "from time import sleep\n",
        "from tqdm.notebook import tqdm\n",
        "\n",
        "pool_size = 12\n",
        "videos = len(test_videos)\n",
        "first = True\n",
        "\n",
        "for i in tqdm(range(0, videos, pool_size)):\n",
        "\n",
        "  print(\"---------- POOL START [{},{}]/{} ----------\".format(i,i+pool_size,videos))\n",
        "\n",
        "  pool = []\n",
        "  for j in range(i, i + pool_size):\n",
        "    if j < videos:\n",
        "      sleep(0.1)\n",
        "      t = t = GetDataChunk(test_videos[j])\n",
        "      t.start()\n",
        "      pool.append(t)\n",
        "  for t in pool:\n",
        "    t.join()\n",
        "\n",
        "  for t in pool:\n",
        "    if first:\n",
        "      test_frames = t.frames\n",
        "      test_classes = t.classes\n",
        "      test_bag_of_objects = t.bag_of_objects\n",
        "      first = False\n",
        "    else:\n",
        "      test_frames = np.append(test_frames,t.frames)\n",
        "      test_classes = np.append(test_classes,t.classes)\n",
        "      test_bag_of_objects = np.append(test_bag_of_objects,t.bag_of_objects)\n",
        "\n",
        "# correctly reshape inputs and classes\n",
        "test_frames = np.array(test_frames).reshape(-1,C3D_INPUT_SIZE[0],C3D_INPUT_SIZE[1],C3D_INPUT_SIZE[2],C3D_INPUT_SIZE[3])\n",
        "test_classes = np.array(test_classes).reshape(-1,N_SUPERVISED_CLASSES)\n",
        "test_bag_of_objects = np.array(test_bag_of_objects).reshape(-1,C3D_INPUT_SIZE[0],N_COCO_CLASSES)\n",
        "\n",
        "print(test_frames.shape)\n",
        "print(test_classes.shape)\n",
        "print(test_bag_of_objects.shape)"
      ],
      "execution_count": null,
      "outputs": []
    },
    {
      "cell_type": "markdown",
      "metadata": {
        "id": "HgbsBAUKLrx8"
      },
      "source": [
        "###Save All"
      ]
    },
    {
      "cell_type": "code",
      "metadata": {
        "id": "HRqhz9U5xau6"
      },
      "source": [
        "with h5py.File(\"Saved/C3D_preprocessed_data/all_preprocessing\", 'w') as hf:\n",
        "  hf.create_dataset(\"train_frames\",  data=train_frames)\n",
        "  hf.create_dataset(\"train_classes\", data=train_classes)\n",
        "  hf.create_dataset(\"train_bag_of_objects\", data=train_bag_of_objects)\n",
        "  hf.create_dataset(\"val_frames\",  data=val_frames)\n",
        "  hf.create_dataset(\"val_classes\", data=val_classes)\n",
        "  hf.create_dataset(\"val_bag_of_objects\", data=val_bag_of_objects)\n",
        "  hf.create_dataset(\"test_frames\",  data=test_frames)\n",
        "  hf.create_dataset(\"test_classes\", data=test_classes)\n",
        "  hf.create_dataset(\"test_bag_of_objects\", data=test_bag_of_objects)"
      ],
      "execution_count": null,
      "outputs": []
    },
    {
      "cell_type": "markdown",
      "metadata": {
        "id": "mKPyNvsd1gqy"
      },
      "source": [
        "###Quick Load"
      ]
    },
    {
      "cell_type": "code",
      "metadata": {
        "id": "fnLLPFSX1fp_"
      },
      "source": [
        "import h5py\n",
        "with h5py.File(\"Saved/C3D_preprocessed_data/all_preprocessing\", \"r\") as h5f:\n",
        "  train_frames = h5f[\"train_frames\"][()]\n",
        "  train_classes = h5f[\"train_classes\"][()]\n",
        "  train_bag_of_objects = h5f[\"train_bag_of_objects\"][()]\n",
        "  val_frames = h5f[\"val_frames\"][()]\n",
        "  val_classes = h5f[\"val_classes\"][()]\n",
        "  val_bag_of_objects = h5f[\"val_bag_of_objects\"][()]\n",
        "  test_frames = h5f[\"test_frames\"][()]\n",
        "  test_classes = h5f[\"test_classes\"][()]\n",
        "  test_bag_of_objects = h5f[\"test_bag_of_objects\"][()]"
      ],
      "execution_count": null,
      "outputs": []
    },
    {
      "cell_type": "code",
      "metadata": {
        "id": "BwjogW9FuFtO"
      },
      "source": [
        "print(train_frames.shape)\n",
        "print(train_classes.shape)\n",
        "print(train_bag_of_objects.shape)\n",
        "print(val_frames.shape)\n",
        "print(val_classes.shape)\n",
        "print(val_bag_of_objects.shape)\n",
        "print(test_frames.shape)\n",
        "print(test_classes.shape)\n",
        "print(test_bag_of_objects.shape)"
      ],
      "execution_count": null,
      "outputs": []
    },
    {
      "cell_type": "markdown",
      "metadata": {
        "id": "Fcgr8YwOh9-x"
      },
      "source": [
        "###Training and Validation"
      ]
    },
    {
      "cell_type": "code",
      "metadata": {
        "id": "YAmNYHQc43fR"
      },
      "source": [
        "c3d_classificator, c3d_base_model = build_c3d_model(\n",
        "                                  n_classes=2,\n",
        "                                  input_shape=(16, 112, 112, 3),\n",
        "                                  c3d_weight_path='C3D/C3D_Sport1M_weights.h5',\n",
        "                                  dim_bag_of_objects=None,\n",
        "                                  show_summary=True\n",
        "                                )"
      ],
      "execution_count": null,
      "outputs": []
    },
    {
      "cell_type": "markdown",
      "metadata": {
        "id": "xkObjTWIh9-z"
      },
      "source": [
        "####Setup"
      ]
    },
    {
      "cell_type": "code",
      "metadata": {
        "id": "AiSsIboHh9-z"
      },
      "source": [
        "from tqdm.notebook import tqdm\n",
        "import numpy as np   \n",
        "import gc\n",
        "\n",
        "class Custom_Data_Generator(keras.utils.Sequence):\n",
        "  '''\n",
        "  Custom data generator to be used by keras model utilities to retreive and \n",
        "  preprocess batches of data\n",
        "  '''\n",
        "  \n",
        "  def __init__(\n",
        "      self, \n",
        "      indices=None, \n",
        "      batch_size=32, \n",
        "      shuffle=True,\n",
        "      path=None,\n",
        "      binary_classification=False,\n",
        "      hard_mining=False,\n",
        "      n_mined=None,\n",
        "      model=None,\n",
        "      loss_function=tf.keras.losses.CategoricalCrossentropy(),\n",
        "      data=None #last column need to be the class\n",
        "  ):\n",
        "      self.batch_size = batch_size\n",
        "      self.shuffle = shuffle\n",
        "      self.indices = indices\n",
        "      self.path = path\n",
        "      self.binary_classification = binary_classification\n",
        "      self.hard_mining = hard_mining\n",
        "      self.n_mined = n_mined\n",
        "      self.loss_function = loss_function\n",
        "      self.model = model\n",
        "      self.on_epoch_end()\n",
        "      self.data = data\n",
        "\n",
        "  def on_epoch_end(self):\n",
        "      # shuffle indicies at epoch start\n",
        "      self.index = np.arange(len(self.indices))\n",
        "      if self.shuffle == True:\n",
        "            np.random.shuffle(self.index)\n",
        "\n",
        "  def __len__(self):\n",
        "      # Denotes the number of batches per epoch\n",
        "      return len(self.indices) // self.batch_size\n",
        "\n",
        "  def __getitem__(self, index):\n",
        "      # Generate one batch of data\n",
        "      # Generate indices of the batch\n",
        "      index = self.index[index * self.batch_size:(index + 1) * self.batch_size]     # Find list of IDs\n",
        "      batch = [self.indices[k] for k in index]     # Generate data\n",
        "      X, y = self.__get_data(batch)\n",
        "      return X, y\n",
        "\n",
        "  def getitem(self, index):\n",
        "    return self.__getitem__(index)\n",
        "\n",
        "  def __get_data(self, batch):\n",
        "      # get data from preprocessed videos   \n",
        "      # Have a dataset loaded\n",
        "      video_classes = self.data[-1][batch]\n",
        "      inputs = []\n",
        "      for column in self.data[:-1]:\n",
        "        inputs.append(column[batch])\n",
        "\n",
        "      if self.binary_classification:\n",
        "        # transform to binary class\n",
        "        video_classes = [[c[-1], max(c[0:-1])] for c in video_classes]\n",
        "        video_classes = np.array(video_classes).reshape(-1,2)\n",
        "\n",
        "      if self.hard_mining:\n",
        "        # mine only n_mined with higher loss\n",
        "        predictions = self.model.predict(inputs, self.n_mined)\n",
        "\n",
        "        # to prevent memory leaking after model.predict\n",
        "        keras.backend.clear_session() \n",
        "        gc.collect()\n",
        "\n",
        "        # select indexes with higher loss\n",
        "        mined_indexes = np.array([self.loss_function(video_classes[i],predictions[i]).numpy() for i in range(len(predictions))]).argsort(axis=None)[-self.n_mined:]\n",
        "        np.random.shuffle(mined_indexes)\n",
        "\n",
        "        mined_inputs = []\n",
        "        for column in inputs:\n",
        "          mined_inputs.append(column[mined_indexes])\n",
        "\n",
        "        return mined_inputs, video_classes[mined_indexes]\n",
        "\n",
        "      return inputs, video_classes"
      ],
      "execution_count": null,
      "outputs": []
    },
    {
      "cell_type": "code",
      "metadata": {
        "id": "8Vu_eYXUh9-0"
      },
      "source": [
        "from jupyterplot import ProgressPlot\n",
        "import numpy as np\n",
        "\n",
        "class PlotCallback(keras.callbacks.Callback):\n",
        "  def on_train_begin(self, logs={}):\n",
        "    self.pp = ProgressPlot(line_names=[\"Training\", \"Validation\"], x_iterator=False, plot_names=[\"Accuracy\",\"Loss\"], x_label=\"Epoch\")\n",
        "\n",
        "  def on_train_end(self, logs=None):\n",
        "    self.pp.finalize()\n",
        "\n",
        "  def on_epoch_end(self, epoch, logs=None):\n",
        "    self.pp.update(epoch, [[logs[\"accuracy\"], logs[\"val_accuracy\"]],[logs[\"loss\"], logs[\"val_loss\"]]])"
      ],
      "execution_count": null,
      "outputs": []
    },
    {
      "cell_type": "code",
      "metadata": {
        "id": "rqSia8yKh9-1"
      },
      "source": [
        "import datetime\n",
        "class MailCallback(keras.callbacks.Callback):\n",
        "  def on_train_begin(self, logs={}):\n",
        "    self.history = \"[{}] ---------- TRAINING START ----------\".format(datetime.datetime.now().strftime(\"%Y/%m/%d-%H:%M:%S\"))\n",
        "    send_email(subject=MAIL_SUBJECT, text=self.history)\n",
        "\n",
        "  def on_train_end(self, logs=None):\n",
        "    self.history += \"\\n[{}] ---------- TRAINING END ----------\".format(datetime.datetime.now().strftime(\"%Y/%m/%d-%H:%M:%S\"))\n",
        "    send_email(subject=MAIL_SUBJECT, text=self.history)\n",
        "\n",
        "  def on_epoch_end(self, epoch, logs=None):\n",
        "    self.history += \"\\n[{}] EPOCH: {} | TRAIN_ACC: {:7.3f} | TRAIN_LOSS: {:7.3f} | VAL_ACC: {:7.3f} | VAL_LOSS: {:7.3f}\".format(datetime.datetime.now().strftime(\"%Y/%m/%d-%H:%M:%S\"), epoch, logs[\"accuracy\"], logs[\"loss\"], logs[\"val_accuracy\"], logs[\"val_loss\"])\n",
        "    send_email(subject=MAIL_SUBJECT, text=self.history)"
      ],
      "execution_count": null,
      "outputs": []
    },
    {
      "cell_type": "markdown",
      "metadata": {
        "id": "3NHFy6sih9-4"
      },
      "source": [
        "####Binary"
      ]
    },
    {
      "cell_type": "code",
      "metadata": {
        "id": "0nXFgWkxh9-4"
      },
      "source": [
        "MAIL_SUBJECT = \"C3D_BINARY_NOBOO_NO_VAL_2\"\n",
        "CHECKPOINT_PATH = \"Checkpoints/\"+MAIL_SUBJECT+\"/checkpoint.ckpt\"\n",
        "MAX_EPOCHS = 100\n",
        "BATCH_SIZE = 16\n",
        "BINARY_CLASSES = [\"Normal\", \"Anomaly\"]\n",
        "\n",
        "CLASS_WEIGHTS = {0:1., 1:2.}\n",
        "CANDIDATES_MULTIPLIER = 3\n",
        "\n",
        "# Save weights when model improves (In case of disconnection)\n",
        "cp_callback = tf.keras.callbacks.ModelCheckpoint(\n",
        "    filepath=CHECKPOINT_PATH,  \n",
        "    verbose=1, \n",
        "    save_weights_only=True,\n",
        "    save_best_only=False ) \n",
        "\n",
        "# Automatically restore best weights after early stopping\n",
        "es_callback = tf.keras.callbacks.EarlyStopping(monitor = 'val_loss', patience = 5, restore_best_weights = True)\n",
        "\n",
        "# Generators\n",
        "training_generator = Custom_Data_Generator(\n",
        "                                           data=[train_frames,train_classes], \n",
        "                                           model=c3d_classificator, \n",
        "                                           hard_mining=True, \n",
        "                                           n_mined=BATCH_SIZE, # actual batch size mined from candidates\n",
        "                                           binary_classification=True, \n",
        "                                           indices=range(0,train_classes.shape[0]), \n",
        "                                           batch_size=BATCH_SIZE*CANDIDATES_MULTIPLIER, # n. candidates \n",
        "                                           shuffle=True\n",
        "                                          )\n",
        "\n",
        "# Binary val classes\n",
        "val_classes_binary = np.array([[c[-1], max(c[0:-1])] for c in val_classes])\n",
        "train_classes_binary = np.array([[c[-1], max(c[0:-1])] for c in train_classes])"
      ],
      "execution_count": null,
      "outputs": []
    },
    {
      "cell_type": "markdown",
      "metadata": {
        "id": "SFdnkoZu2wCF"
      },
      "source": [
        "Train only top layers:"
      ]
    },
    {
      "cell_type": "code",
      "metadata": {
        "id": "oRycyrWv3iqS"
      },
      "source": [
        "# Freeze Top C3D layers\n",
        "for layer in c3d_base_model.layers[:-6]:\n",
        "    layer.trainable = False\n",
        "\n",
        "# Check the trainable status of the individual layers\n",
        "for layer in c3d_classificator.layers:\n",
        "    print(layer, layer.trainable)"
      ],
      "execution_count": null,
      "outputs": []
    },
    {
      "cell_type": "code",
      "metadata": {
        "id": "Ij_sUlSph9-5"
      },
      "source": [
        "# Train ONLY custom layers\n",
        "LEARNING_RATE = 1e-5\n",
        "c3d_classificator.compile(\n",
        "                  loss='categorical_crossentropy', \n",
        "                  optimizer= keras.optimizers.Adam(LEARNING_RATE),\n",
        "                  metrics=['accuracy']\n",
        "                  )\n",
        "\n",
        "MAX_EPOCHS = 4\n",
        "\n",
        "tf.config.run_functions_eagerly(True) \n",
        "history = c3d_classificator.fit(\n",
        "                        training_generator, #hard mining\n",
        "                        validation_data = ([val_frames],val_classes_binary), \n",
        "                        validation_batch_size=BATCH_SIZE, \n",
        "                        class_weight=CLASS_WEIGHTS, \n",
        "                        epochs=MAX_EPOCHS, \n",
        "                        workers=1, \n",
        "                        use_multiprocessing=False, \n",
        "                        callbacks=[#es_callback, \n",
        "                                   cp_callback, \n",
        "                                   MailCallback(), \n",
        "                                   PlotCallback()]\n",
        "                      )\n",
        "\n",
        "plot_history(history.history)"
      ],
      "execution_count": null,
      "outputs": []
    },
    {
      "cell_type": "markdown",
      "metadata": {
        "id": "jgMr03YE3O6g"
      },
      "source": [
        "Fine tuning on ALL layers:"
      ]
    },
    {
      "cell_type": "code",
      "metadata": {
        "id": "dNfNERuS3khm"
      },
      "source": [
        "# Fine tuning on ALL layers\n",
        "c3d_base_model.trainable = True"
      ],
      "execution_count": null,
      "outputs": []
    },
    {
      "cell_type": "code",
      "metadata": {
        "id": "6pI2kZcj25zn"
      },
      "source": [
        "LEARNING_RATE = 1e-6 # very slow learning rate\n",
        "c3d_classificator.compile(\n",
        "                  loss='categorical_crossentropy', \n",
        "                  optimizer= keras.optimizers.Adam(LEARNING_RATE), \n",
        "                  metrics=['accuracy']\n",
        "                  )\n",
        "MAX_EPOCHS = 1\n",
        "tf.config.run_functions_eagerly(True) \n",
        "history = c3d_classificator.fit(\n",
        "                        training_generator, # Hard mining\n",
        "                        validation_data = (val_frames,val_classes_binary), \n",
        "                        validation_batch_size=BATCH_SIZE, \n",
        "                        class_weight=CLASS_WEIGHTS, \n",
        "                        epochs=MAX_EPOCHS, \n",
        "                        workers=1, \n",
        "                        use_multiprocessing=False, \n",
        "                        callbacks=[#es_callback, \n",
        "                                   cp_callback, \n",
        "                                   MailCallback(), \n",
        "                                   PlotCallback()]\n",
        "                      )\n",
        "\n",
        "plot_history(history.history)"
      ],
      "execution_count": null,
      "outputs": []
    },
    {
      "cell_type": "markdown",
      "metadata": {
        "id": "EnIZ13RLs8L4"
      },
      "source": [
        "###Test"
      ]
    },
    {
      "cell_type": "markdown",
      "metadata": {
        "id": "6N-RglKWs8MK"
      },
      "source": [
        "####Binary"
      ]
    },
    {
      "cell_type": "code",
      "metadata": {
        "id": "HrFzMLe7s8ML"
      },
      "source": [
        "MODEL = \"C3D_BINARY_NOBOO_1\"\n",
        "TEST_BATCH_SIZE = 16\n",
        "CHECKPOINT_PATH = \"Checkpoints/{}/checkpoint.ckpt\".format(MODEL)\n",
        "N_TEST_FRAMES = test_classes.shape[0]\n",
        "\n",
        "c3d_classificator.load_weights(CHECKPOINT_PATH)"
      ],
      "execution_count": null,
      "outputs": []
    },
    {
      "cell_type": "code",
      "metadata": {
        "id": "Io7dcZR7s8MQ"
      },
      "source": [
        "from sklearn.linear_model import LogisticRegression\n",
        "from sklearn.metrics import confusion_matrix\n",
        "\n",
        "predicted_labels = c3d_classificator.predict([test_frames], TEST_BATCH_SIZE)\n",
        "true_lables = np.array([[c[-1], max(c[0:-1])] for c in test_classes])\n",
        "\n",
        "true_y = [y.argmax() for y in true_lables]\n",
        "pred_y = [y.argmax() for y in predicted_labels]\n",
        "\n",
        "cf_matrix = confusion_matrix(true_y, pred_y)\n",
        "make_confusion_matrix(cf_matrix, categories=BINARY_CLASSES)"
      ],
      "execution_count": null,
      "outputs": []
    },
    {
      "cell_type": "code",
      "metadata": {
        "id": "EbLOi9t_s8MS"
      },
      "source": [
        "fpr, tpr, _ = roc_curve(true_lables[:,0], predicted_labels[:,0])\n",
        "roc_auc = auc(fpr, tpr)\n",
        "plt.plot(fpr, tpr, color=plt.cm.winter(1),lw=2, label= \"CNN binary\" + ' (area = %0.3f)' % roc_auc)\n",
        "    \n",
        "plt.plot([0, 1], [0, 1], color='gray', lw=2, linestyle='--')\n",
        "plt.xlim([0.0, 1.0])\n",
        "plt.ylim([0.0, 1.0])\n",
        "plt.gca().set_aspect('equal', adjustable='box')\n",
        "plt.xlabel('False Positive Rate')\n",
        "plt.ylabel('True Positive Rate')\n",
        "plt.title('Receiver operating characteristic')\n",
        "plt.legend(loc=\"lower right\")\n",
        "\n",
        "plt.show()"
      ],
      "execution_count": null,
      "outputs": []
    },
    {
      "cell_type": "markdown",
      "metadata": {
        "id": "akgPcncKIW8I"
      },
      "source": [
        "# Visual Testing"
      ]
    },
    {
      "cell_type": "markdown",
      "metadata": {
        "id": "n2aC1ZbQ99IL"
      },
      "source": [
        "##GradCam"
      ]
    },
    {
      "cell_type": "code",
      "metadata": {
        "id": "zaJGGWjM6IjR"
      },
      "source": [
        "import numpy as np\n",
        "\n",
        "# Display\n",
        "from IPython.display import Image, display\n",
        "import matplotlib.pyplot as plt\n",
        "import matplotlib.cm as cm"
      ],
      "execution_count": null,
      "outputs": []
    },
    {
      "cell_type": "code",
      "metadata": {
        "id": "oCG4nnNr6RoB"
      },
      "source": [
        "def get_img_array(img_path, size, preprocess_function = None):\n",
        "    # `img` is a PIL image of size nxnx3\n",
        "    img = keras.preprocessing.image.load_img(img_path, target_size=size)\n",
        "    # `array` is a float32 Numpy array of shape (n, n, 3)\n",
        "    array = keras.preprocessing.image.img_to_array(img)\n",
        "    # preprocess if needed\n",
        "    if preprocess_function is not None:\n",
        "      preprocess_function(array)\n",
        "    # We add a dimension to transform our array into a \"batch\"\n",
        "    # of size (1, n, n, 3)\n",
        "    array = np.expand_dims(array, axis=0)\n",
        "    return array\n",
        "\n",
        "\n",
        "def make_gradcam_heatmap(model_inputs, model, last_conv_layer_name, pred_index=None):\n",
        "    # First, we create a model that maps the input image to the activations\n",
        "    # of the last conv layer as well as the output predictions\n",
        "    grad_model = tf.keras.models.Model(\n",
        "        [model.inputs], [model.get_layer(last_conv_layer_name).output, model.output]\n",
        "    )\n",
        "\n",
        "    # Then, we compute the gradient of the top predicted class for our input image\n",
        "    # with respect to the activations of the last conv layer\n",
        "    with tf.GradientTape() as tape:\n",
        "        last_conv_layer_output, preds = grad_model(model_inputs)\n",
        "        if pred_index is None:\n",
        "            pred_index = tf.argmax(preds[0])\n",
        "        class_channel = preds[:, pred_index]\n",
        "\n",
        "    # This is the gradient of the output neuron (top predicted or chosen)\n",
        "    # with regard to the output feature map of the last conv layer\n",
        "    grads = tape.gradient(class_channel, last_conv_layer_output)\n",
        "\n",
        "    # This is a vector where each entry is the mean intensity of the gradient\n",
        "    # over a specific feature map channel\n",
        "    pooled_grads = tf.reduce_mean(grads, axis=(0, 1, 2))\n",
        "\n",
        "    # We multiply each channel in the feature map array\n",
        "    # by \"how important this channel is\" with regard to the top predicted class\n",
        "    # then sum all the channels to obtain the heatmap class activation\n",
        "    last_conv_layer_output = last_conv_layer_output[0]\n",
        "    heatmap = last_conv_layer_output @ pooled_grads[..., tf.newaxis]\n",
        "    heatmap = tf.squeeze(heatmap)\n",
        "\n",
        "    # For visualization purpose, we will also normalize the heatmap between 0 & 1\n",
        "    heatmap = (tf.maximum(heatmap, 0) / tf.math.reduce_max(heatmap))\n",
        "    return heatmap.numpy()"
      ],
      "execution_count": null,
      "outputs": []
    },
    {
      "cell_type": "code",
      "metadata": {
        "id": "TKztBw206gw0"
      },
      "source": [
        "def calc_gradcam(heatmap, img_path=None, img=None, alpha=0.4, show=False, colour_map=\"jet\", reverse_cmap = False):\n",
        "\n",
        "    if img_path is not None:\n",
        "      # Load the original image\n",
        "      img = keras.preprocessing.image.load_img(img_path)\n",
        "      img = keras.preprocessing.image.img_to_array(img)\n",
        "\n",
        "    # Rescale heatmap to a range 0-255\n",
        "    heatmap = np.uint8(255 * heatmap)\n",
        "\n",
        "    # Use jet colormap to colorize heatmap\n",
        "    jet = cm.get_cmap(colour_map)\n",
        "\n",
        "    if reverse_cmap:\n",
        "      jet = jet.reversed()\n",
        "\n",
        "    # Use RGB values of the colormap\n",
        "    jet_colors = jet(np.arange(256))[:, :3]\n",
        "    jet_heatmap = jet_colors[heatmap]\n",
        "\n",
        "    # Create an image with RGB colorized heatmap\n",
        "    jet_heatmap = keras.preprocessing.image.array_to_img(jet_heatmap)\n",
        "    jet_heatmap = jet_heatmap.resize((img.shape[1], img.shape[0]))\n",
        "    jet_heatmap = keras.preprocessing.image.img_to_array(jet_heatmap)\n",
        "\n",
        "    # Superimpose the heatmap on original image\n",
        "    superimposed_img = jet_heatmap * alpha + img\n",
        "\n",
        "    if show:\n",
        "      # Display Grad CAM\n",
        "      display(keras.preprocessing.image.array_to_img(superimposed_img))\n",
        "\n",
        "    return superimposed_img"
      ],
      "execution_count": null,
      "outputs": []
    },
    {
      "cell_type": "markdown",
      "metadata": {
        "id": "balsCk2D9zDw"
      },
      "source": [
        "## Real Time DEMO"
      ]
    },
    {
      "cell_type": "markdown",
      "metadata": {
        "id": "rWn1ZJaSu06v"
      },
      "source": [
        "###Setup"
      ]
    },
    {
      "cell_type": "code",
      "metadata": {
        "id": "R5BjrdO8Rp_p"
      },
      "source": [
        "import pandas as pd\n",
        "\n",
        "train_split = pd.read_csv(\"Data/framebyframe_annotations/Train_split_AD.txt\", header=None)\n",
        "test_val_split = pd.read_csv(\"Data/framebyframe_annotations/Test_split_AD.txt\", header=None)\n",
        "# reservations odd rows, even rows deleted\n",
        "test_split=test_val_split[test_val_split.index%2==0]\n",
        "# retained even rows, delete odd lines\n",
        "val_split=test_val_split[test_val_split.index%2==1]"
      ],
      "execution_count": null,
      "outputs": []
    },
    {
      "cell_type": "code",
      "metadata": {
        "id": "nv9ZHIsIJnTF"
      },
      "source": [
        "import math\n",
        "\n",
        "class AnomalyScore:\n",
        "  def __init__(self, sensibility_threshold=0.5, reactivity = 2, acc_value=-7, max=7, min=-7):\n",
        "    self.acc_value = acc_value\n",
        "    self.max = max\n",
        "    self.min = min\n",
        "    self.threshold = sensibility_threshold\n",
        "    self.score = 0\n",
        "    self.reactivity = reactivity\n",
        "\n",
        "  def add(self, anom_prob):\n",
        "    if anom_prob >= self.threshold:\n",
        "      self.acc_value = self.acc_value + ((anom_prob-self.threshold)/(1 - self.threshold))*self.reactivity if self.acc_value < self.max else self.max\n",
        "    else:\n",
        "      normal_prob = 1 - anom_prob\n",
        "      normal_trashold = 1 - self.threshold\n",
        "      self.acc_value = self.acc_value - ((normal_prob-normal_trashold)/(1 - normal_trashold))*self.reactivity if self.acc_value > self.min else self.min\n",
        "      \n",
        "    self.score = (1/(1+math.exp(-self.acc_value)))*100 # sig -> (0,100)"
      ],
      "execution_count": null,
      "outputs": []
    },
    {
      "cell_type": "code",
      "metadata": {
        "id": "yx7EmadJKdtE"
      },
      "source": [
        "import cv2\n",
        "import numpy as np\n",
        "from google.colab.patches import cv2_imshow as imshow\n",
        "from IPython.display import clear_output \n",
        "from time import sleep\n",
        "from collections import Counter\n",
        "from sklearn.preprocessing import Normalizer\n",
        "from jupyterplot import ProgressPlot\n",
        "\n",
        "def visual_test(\n",
        "                classificator_model,\n",
        "                videos_split,\n",
        "                last_conv_layer = None,\n",
        "                optical_flow = True,\n",
        "                object_detector = None,\n",
        "                feature_extractor = None,\n",
        "                binary = True,\n",
        "                sample_rate = 10,\n",
        "                plot = True,\n",
        "                visual_test = False,\n",
        "                show_gradCam = False,\n",
        "                frame_size = None,\n",
        "                sensibility_threshold=0.5, \n",
        "                reactivity = 2,\n",
        "                labeled = True,\n",
        "                clear_previous = True\n",
        "):\n",
        "\n",
        "  anomaly_list = []\n",
        "  anomalous_videos = []\n",
        "  normal_videos = []\n",
        "  first_prediction = True\n",
        "\n",
        "  c3d = False\n",
        "  cnn = True\n",
        "  if len(frame_size) == 4:\n",
        "    # Need a block, not a single frame\n",
        "    c3d = True\n",
        "    cnn = False\n",
        "    block_size = frame_size\n",
        "    frame_size = frame_size[1:]\n",
        "\n",
        "  for video, video_idx in zip(videos_split ,range(0,len(videos_split))):\n",
        "\n",
        "    anomaly_detected = False\n",
        "\n",
        "    if c3d:\n",
        "      # Initialized with zeros\n",
        "      frames_block = np.zeros(block_size, dtype=np.float)\n",
        "      if not object_detector == None:\n",
        "        bag_of_objects_block = np.zeros((block_size[0],N_COCO_CLASSES), dtype=np.float)\n",
        "\n",
        "    # Initialize new anomaly score\n",
        "    anomaly_score = AnomalyScore(sensibility_threshold=sensibility_threshold, reactivity = reactivity)\n",
        "\n",
        "    if labeled:\n",
        "      # for labelled videos\n",
        "      if \"Normal_Videos\" not in video:\n",
        "        annotations = pd.read_csv(\"Data/framebyframe_annotations/annotations/\"+video+\".txt\", header=None,sep=\" \")\n",
        "        video_class = annotations.iloc[:,-1][0]\n",
        "        frame_annotations = annotations[annotations[6] != 1][5].tolist()\n",
        "      else:\n",
        "        video_class = \"Normal_Videos_event\"\n",
        "\n",
        "      # Capture video from file or link\n",
        "      if \"Normal_Videos\" not in video:\n",
        "        video_path = \"Data/Videos/\" + video_class + \"/\" + video.strip() + \"_x264.mp4\"\n",
        "      else:\n",
        "        video_path = \"Data/Videos/Training_Normal_Videos_Anomaly/\" + video.strip() + \"_x264.mp4\"\n",
        "    else:\n",
        "      # for other videos pass directly the path\n",
        "      video_path = video\n",
        "\n",
        "    # Capture video from file or link\n",
        "    cap = cv2.VideoCapture(video_path)\n",
        "    total_frames = int(cap.get(cv2.CAP_PROP_FRAME_COUNT))\n",
        "\n",
        "    # read first frame\n",
        "    ret, frame1 = cap.read() # BGR\n",
        "    prvs = cv2.cvtColor(frame1,cv2.COLOR_BGR2GRAY)\n",
        "    hsv = np.zeros_like(frame1)\n",
        "    hsv[...,1] = 255\n",
        "\n",
        "    flow = None\n",
        "\n",
        "    if plot:\n",
        "      if clear_previous:\n",
        "        clear_output(wait=True) \n",
        "      print(f\"Anomalies Found: {sum(anomaly_list)}/{len(anomaly_list)}\")\n",
        "      print(f\"Index: {video_idx+1}/{len(videos_split)}\")\n",
        "\n",
        "    print(\"VIDEO {} -----------------------\".format(video))\n",
        "    if plot:\n",
        "      pp = ProgressPlot(line_names=[\"SAS\", \"True\", \"Predicted\"], x_iterator=False, plot_names=[video], x_label=\"Second\", y_lim=[0,100])\n",
        "      frame_list = []\n",
        "      SAS_list = []\n",
        "      true_list = []\n",
        "      predicted_list = []\n",
        "\n",
        "    # Loop the video\n",
        "    for frame_idx in range(1, total_frames):\n",
        "\n",
        "      ret, frame2 = cap.read()\n",
        "\n",
        "      if frame_idx % sample_rate == 0:\n",
        "\n",
        "        # read next frame\n",
        "        next = cv2.cvtColor(frame2,cv2.COLOR_BGR2GRAY)\n",
        "\n",
        "        if optical_flow:\n",
        "          # calculate optical flow using previous and next frames (using default params)\n",
        "          # 6th parameter: larger values increase the algorithm robustness to image noise and give more chances for fast motion detection, but yield more blurred motion field\n",
        "          flow = cv2.calcOpticalFlowFarneback(prvs, next, flow, 0.5, 3, 15, 3, 5, 1.2, 0)\n",
        "\n",
        "          # convert flow to rgb \n",
        "          mag, ang = cv2.cartToPolar(flow[...,0], flow[...,1])\n",
        "          hsv[...,0] = ang*180/np.pi/2\n",
        "          hsv[...,2] = cv2.normalize(mag,None,0,255,cv2.NORM_MINMAX)\n",
        "          rgb_optical_flow = cv2.cvtColor(hsv,cv2.COLOR_HSV2BGR)\n",
        "\n",
        "          prvs = next\n",
        "\n",
        "        frame2_rgb = cv2.cvtColor(frame2, cv2.COLOR_BGR2RGB)\n",
        "\n",
        "        if not object_detector == None:\n",
        "          # objects detection\n",
        "          detections, bag_of_objects = yolov4_detect_bag_of_objects(frame2_rgb, yolo)\n",
        "\n",
        "        # features extraction\n",
        "        # preprocess_input want RGB images in input\n",
        "        frame2_resized = cv2.resize(frame2_rgb, (frame_size[0],frame_size[1]), interpolation = cv2.INTER_AREA)\n",
        "\n",
        "        if optical_flow:\n",
        "          optical_flow_resized = cv2.resize(rgb_optical_flow, (frame_size[0],frame_size[1]), interpolation = cv2.INTER_AREA)\n",
        "\n",
        "        classificator_input = []\n",
        "\n",
        "        if cnn:\n",
        "          classificator_input.append(resnet.preprocess_input(frame2_resized).reshape(1,frame_size[0],frame_size[1],frame_size[2]))\n",
        "          if optical_flow:\n",
        "            classificator_input.append(resnet.preprocess_input(optical_flow_resized).reshape(1,frame_size[0],frame_size[1],frame_size[2]))\n",
        "          if not object_detector == None:\n",
        "            classificator_input.append(bag_of_objects.reshape(1,N_COCO_CLASSES))\n",
        "\n",
        "        if c3d:\n",
        "          frames_block = frames_block[1:] # pop first\n",
        "          frames_block = np.append(frames_block,frame2_resized)\n",
        "          frames_block = frames_block.reshape(block_size[0],block_size[1],block_size[2],block_size[3])\n",
        "          classificator_input.append(frames_block.reshape(1,block_size[0],block_size[1],block_size[2],block_size[3])) #add batch dimention\n",
        "          if not object_detector == None:\n",
        "            bag_of_objects_block = bag_of_objects_block[1:] # pop first\n",
        "            bag_of_objects_block = np.append(bag_of_objects_block,bag_of_objects)\n",
        "            bag_of_objects_block = bag_of_objects_block.reshape(block_size[0],N_COCO_CLASSES)\n",
        "            classificator_input.append(bag_of_objects_block.reshape(1,block_size[0],N_COCO_CLASSES)) #add batch dimention\n",
        "\n",
        "        if not feature_extractor == None:\n",
        "          # cnn predictions for lstm classificator\n",
        "          classificator_input = feature_extractor.predict(classificator_input)\n",
        "          classificator_input = classificator_input.reshape(1,1,-1)\n",
        "\n",
        "        # predictions\n",
        "        prediction = classificator_model.predict(classificator_input)\n",
        "\n",
        "        if labeled and \"Normal_Videos\" not in video and frame_idx in frame_annotations:\n",
        "          frame_class = video_class\n",
        "        else:\n",
        "          frame_class = \"Normal_Videos_event\"\n",
        "\n",
        "        # class in one_hot_encoding\n",
        "        one_hot_class = np.zeros(N_SUPERVISED_CLASSES)\n",
        "        one_hot_class[CLASSES.index(frame_class)] = 1\n",
        "\n",
        "        if binary:\n",
        "          # Transform to normal-anomaly binary classes\n",
        "          one_hot_class = np.array([one_hot_class[-1], max(one_hot_class[0:-1])])\n",
        "\n",
        "        if first_prediction:\n",
        "          predicted_classes = np.array(prediction)\n",
        "          true_classes = one_hot_class\n",
        "          first_prediction = False\n",
        "        else:\n",
        "          predicted_classes = np.append(predicted_classes, prediction)\n",
        "          true_classes = np.append(true_classes, one_hot_class)\n",
        "\n",
        "        if plot:\n",
        "          anomaly_score.add(prediction[0][1])\n",
        "          if anomaly_score.score > 50:\n",
        "            anomaly_detected = True\n",
        "          # 30 FPS\n",
        "          pp.update(frame_idx / 30, [[anomaly_score.score, 0 if \"Normal_Videos_event\" in frame_class else 100, prediction[0][1]*100]])\n",
        "\n",
        "          frame_list.append(frame_idx)\n",
        "          SAS_list.append(anomaly_score.score * 0.01)\n",
        "          true_list.append(0 if \"Normal_Videos_event\" in frame_class else 1)\n",
        "          predicted_list.append(prediction[0][1])\n",
        "\n",
        "\n",
        "        if visual_test:\n",
        "          # for visual testing \n",
        "          clear_output(wait=True)\n",
        "\n",
        "          print(\"VIDEO {} -----------------------\".format(video))\n",
        "          print(\"FRAME {}/{}\".format(frame_idx,total_frames))\n",
        "          print()\n",
        "          print(\"CLASS: {}\".format(frame_class))\n",
        "          print()\n",
        "          \n",
        "          if binary:\n",
        "            print(\"NORMAL_PROB: {:3.0f}%\".format(prediction[0][0]*100))\n",
        "            print(\"ANOMALY_PROB: {:3.0f}%\".format(prediction[0][1]*100))\n",
        "            print(\"ANOMALY_SCORE: {:3.0f}%\".format(anomaly_score.score))\n",
        "\n",
        "          if not object_detector == None:\n",
        "\n",
        "            # create transparent overlay for bounding box\n",
        "            bbox_array = np.zeros([480,640,4], dtype=np.uint8)\n",
        "\n",
        "            # loop over the detected objects\n",
        "            for obj, i in zip(detections, range(len(detections))):\n",
        "            \n",
        "              #(x, y, w, h, cls_id, prob)\n",
        "\n",
        "              # extract the bounding box coordinates\n",
        "              (x, y) = (int(obj[0]*frame2.shape[1]), int(obj[1]*frame2.shape[0]))\n",
        "              (w, h) = (int(obj[2]*frame2.shape[1]), int(obj[3]*frame2.shape[0]))\n",
        "\n",
        "              # convert to corners\n",
        "              x_start = round(x-w/2)\n",
        "              y_start = round(y-h/2)\n",
        "              x_end = round(x_start + w)\n",
        "              y_end = round(y_start + h)\n",
        "\n",
        "              # Bounding box color \n",
        "              color = (0,0,255) #BGR red\n",
        "\n",
        "              # draw a bounding box rectangle and label on the frame\n",
        "              cv2.rectangle(frame2, (x_start,y_start), (x_end, y_end), color, 2)\n",
        "              text = \"{}: {:0.2f}\".format(COCO_CLASSES[int(obj[4])], obj[5])\n",
        "              cv2.putText(frame2,text,(x_start,y_start-5),cv2.FONT_HERSHEY_SIMPLEX,0.5,color)\n",
        "          \n",
        "          if show_gradCam:\n",
        "            # GradCam\n",
        "            frame_gradCam = frame2\n",
        "            frame_heatmap = make_gradcam_heatmap(classificator_input, classificator_model, last_conv_layer + \"_frame\")\n",
        "            frame_gradCam = calc_gradcam(frame_heatmap, img = frame2_rgb, alpha=1)\n",
        "            frame_gradCam = cv2.cvtColor(frame_gradCam, cv2.COLOR_RGB2BGR)\n",
        "            juxtaposition = (frame2, frame_gradCam)\n",
        "            j_size = 800\n",
        "            if optical_flow:\n",
        "              opt_flow = cv2.cvtColor(rgb_optical_flow, cv2.COLOR_RGB2BGR)\n",
        "              opt_flow_gradCam = opt_flow\n",
        "              opt_flow_heatmap = make_gradcam_heatmap(classificator_input, classificator_model, last_conv_layer + \"_opt_flow\")\n",
        "              opt_flow_gradCam = calc_gradcam(opt_flow_heatmap, img = rgb_optical_flow, alpha=1)\n",
        "              opt_flow_gradCam = cv2.cvtColor(opt_flow_gradCam, cv2.COLOR_RGB2BGR)\n",
        "              juxtaposition = (opt_flow, opt_flow_gradCam, frame2, frame_gradCam)\n",
        "              j_size = 1600\n",
        "\n",
        "          # juxtapose flow with frame \n",
        "          horizontal_juxtapose  = np.hstack(juxtaposition)\n",
        "\n",
        "          # clear previous and show next images\n",
        "          imshow(cv2.resize(horizontal_juxtapose,(j_size,400)))\n",
        "\n",
        "          sleep(sample_rate/30)\n",
        "          input(\"\")\n",
        "\n",
        "    if plot:\n",
        "      pp.finalize()\n",
        "    anomaly_list.append(anomaly_detected)\n",
        "    if anomaly_detected:\n",
        "      anomalous_videos.append(video)\n",
        "    else:\n",
        "      normal_videos.append(video)\n",
        "  \n",
        "  if binary:\n",
        "    true_classes = np.array(true_classes).reshape(-1,2)\n",
        "    predicted_classes = np.array(predicted_classes).reshape(-1,2)\n",
        "  else:\n",
        "    true_classes = np.array(true_classes).reshape(-1,N_SUPERVISED_CLASSES)\n",
        "    predicted_classes = np.array(predicted_classes).reshape(-1,N_SUPERVISED_CLASSES)\n",
        "\n",
        "  return true_classes, predicted_classes, anomaly_list, anomalous_videos, normal_videos, [frame_list, SAS_list, true_list, predicted_list]"
      ],
      "execution_count": null,
      "outputs": []
    },
    {
      "cell_type": "markdown",
      "metadata": {
        "id": "p62P6PaaD4s1"
      },
      "source": [
        "###GRADCAM TEST"
      ]
    },
    {
      "cell_type": "code",
      "metadata": {
        "id": "e-rTCzKPD4s4"
      },
      "source": [
        "video = \"Data/Videos/Explosion/Explosion018_x264.mp4\"\n",
        "\n",
        "true_lables, predicted_labels, anomaly_list, anomalous_videos, normal_videos, plot = visual_test(\n",
        "            classificator_model = CNN_classificator,\n",
        "            last_conv_layer = \"conv5_block3_out\",\n",
        "            videos_split = [video],\n",
        "            optical_flow = True,\n",
        "            object_detector = yolo,\n",
        "            binary = True,\n",
        "            sample_rate = 1,\n",
        "            plot = True,\n",
        "            visual_test = True,\n",
        "            show_gradCam = True,\n",
        "            frame_size = PRETRAINED_INPUT_SIZE,\n",
        "            sensibility_threshold=0.5, \n",
        "            reactivity = 2,\n",
        "            labeled = False,\n",
        "            clear_previous = False\n",
        "           )"
      ],
      "execution_count": null,
      "outputs": []
    },
    {
      "cell_type": "code",
      "metadata": {
        "colab": {
          "base_uri": "https://localhost:8080/",
          "height": 508
        },
        "id": "Ly_bcfg9RtiU",
        "outputId": "8cdcdf19-b6e0-418c-ff38-6895bdecaf0d"
      },
      "source": [
        "import matplotlib.pyplot as plt\n",
        "x  = plot[0]\n",
        "y1 = plot[1]\n",
        "y2 = plot[2]\n",
        "y3 = plot[3]\n",
        "\n",
        "with plt.style.context(\"default\"):\n",
        "\n",
        "  fig, axs = plt.subplots(1, 1, constrained_layout=True)\n",
        "\n",
        "  plt.rcParams['font.size'] = 10\n",
        "  plt.rcParams['axes.labelsize'] = 10\n",
        "  plt.rcParams['axes.labelweight'] = 'bold'\n",
        "  plt.rcParams['xtick.labelsize'] = 8\n",
        "  plt.rcParams['ytick.labelsize'] = 8\n",
        "  plt.rcParams['legend.fontsize'] = 10\n",
        "  plt.rcParams['figure.titlesize'] = 12\n",
        "\n",
        "  plt.plot(x, y1, label=\"SAS\", linestyle=':', alpha=0.9)\n",
        "  plt.plot(x, y2, label=\"True Label\", linestyle=':', alpha=0.9)\n",
        "  plt.plot(x, y3, label=\"Prediction Confidence\", linestyle='-', linewidth=1, alpha=0.9)\n",
        "  plt.hlines(y=0.5, xmin=0, xmax=plot[0][-1], colors='red', linestyles='-', lw=2, label='Anomaly Threshold', alpha=0.7)\n",
        "  plt.plot()\n",
        "\n",
        "  axs.xaxis.set_label_position('top')\n",
        "  axs.xaxis.tick_top()\n",
        "  axs.set_xlabel('Frame')\n",
        "  axs.set_title(video)\n",
        "  axs.fill_between(x, y2, color='C1', alpha=0.2)\n",
        "  axs.fill_between(x, y1, color='C0', alpha=0.1)\n",
        "\n",
        "  plt.ylabel(\"Anomaly Value\")\n",
        "  plt.xlim([0, plot[0][-1]])\n",
        "  plt.ylim([0, 1])\n",
        "\n",
        "  axs.legend(loc='upper center', bbox_to_anchor=(0.5, -0.01),\n",
        "            fancybox=True, shadow=True, ncol=5)\n",
        "\n",
        "  plt.savefig(f'img/{video}.png', dpi=900)\n",
        "  plt.show()"
      ],
      "execution_count": null,
      "outputs": [
        {
          "output_type": "display_data",
          "data": {
            "text/plain": [
              "<Figure size 640x480 with 1 Axes>"
            ],
            "image/png": "[encoded data removed]"
          },
          "metadata": {
            "tags": []
          }
        }
      ]
    }
  ]
}